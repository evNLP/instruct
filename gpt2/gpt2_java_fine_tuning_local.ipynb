{
  "cells": [
    {
      "cell_type": "markdown",
      "metadata": {},
      "source": [
        "# Instructing GPT-2 to Generate Java Specific Code"
      ]
    },
    {
      "cell_type": "markdown",
      "metadata": {},
      "source": [
        "In order to allow the repetition of this notebook, we give the technical details of the environment used to run the code."
      ]
    },
    {
      "cell_type": "markdown",
      "metadata": {},
      "source": [
        "Hardware:\n",
        "- MSI Katana\n",
        "- Intel Core i7-10750H\n",
        "- NVIDIA GeForce RTX 3050 Laptop GPU\n",
        "\n",
        "Software:\n",
        "- Windows 10\n",
        "- Python 3.9.6"
      ]
    },
    {
      "cell_type": "markdown",
      "metadata": {
        "id": "5P8oMEfoC_Bx"
      },
      "source": [
        "# Autorregressive Fine-Tuning"
      ]
    },
    {
      "cell_type": "markdown",
      "metadata": {},
      "source": [
        "In this section, we will fine-tune GPT-2, a pre-trained language model developed by OpenAI that is capable of generating coherent and contextually relevant text. GPT-2 uses the transformer architecture and has been trained on a diverse dataset of text from the internet. By fine-tuning this model, we aim to adapt it specifically to generate Java-like code that adheres to the syntax and structure of the Java programming language."
      ]
    },
    {
      "cell_type": "markdown",
      "metadata": {},
      "source": [
        "### Data Preparation"
      ]
    },
    {
      "cell_type": "code",
      "execution_count": 1,
      "metadata": {
        "id": "itKjkZ1_Csjz"
      },
      "outputs": [],
      "source": [
        "import pandas as pd\n",
        "import numpy as np\n",
        "import os"
      ]
    },
    {
      "cell_type": "markdown",
      "metadata": {},
      "source": [
        "To achieve the goal of coming to a model that easily generates Java-like code, we first scraped a substantial amount of Java code from public GitHub repositories, creating a dataset rich in diverse Java code snippets. The dataset includes various examples of classes, methods, loops, conditionals, and other key constructs of the Java language. This diversity ensures that the model can generalize well across different coding scenarios."
      ]
    },
    {
      "cell_type": "code",
      "execution_count": 2,
      "metadata": {
        "id": "qIStKIK1C7eZ"
      },
      "outputs": [],
      "source": [
        "def read_file(path):\n",
        "  try:\n",
        "      with open(path) as f:\n",
        "        for line in f.readlines():\n",
        "          if line[:6] != \"<body>\":\n",
        "            return line\n",
        "  except:\n",
        "    print(path)\n",
        "    return \"\"\n",
        "\n",
        "  return \"\"\n",
        "\n",
        "\n",
        "def read_files(dir_path):\n",
        "  path_list = os.listdir(dir_path)\n",
        "  content = \"\"\n",
        "\n",
        "  for path in path_list:\n",
        "    content += read_file(dir_path + \"/\" + path)\n",
        "\n",
        "  return content"
      ]
    },
    {
      "cell_type": "code",
      "execution_count": 3,
      "metadata": {
        "id": "cPHGhRMKFA7L"
      },
      "outputs": [],
      "source": [
        "dataset_path = \"dataset\""
      ]
    },
    {
      "cell_type": "code",
      "execution_count": 4,
      "metadata": {
        "id": "WhbkXdRUFq5A"
      },
      "outputs": [
        {
          "name": "stdout",
          "output_type": "stream",
          "text": [
            "dataset/https__github.com_spring-projects_spring-boot_blob_main_spring-boot-project_spring-boot-autoconfigure_src_test_java_org_springframework_boot_autoconfigure_data_alt_elasticsearch_CityReactiveElasticsearchDbRepository.java\n",
            "dataset/lines\n"
          ]
        }
      ],
      "source": [
        "text_data = read_files(dataset_path)"
      ]
    },
    {
      "cell_type": "markdown",
      "metadata": {
        "id": "6wy2q42NIqrD"
      },
      "source": [
        "For efficient training, we preprocess this dataset into two text files: one for training and one for validation. Each file contains one Java code snippet per line, ensuring consistency in data structure. The training set will be used to fine-tune the GPT-2 model, while the validation set will help monitor performance and prevent overfitting."
      ]
    },
    {
      "cell_type": "code",
      "execution_count": 5,
      "metadata": {
        "id": "KGwAoPLGIqa0"
      },
      "outputs": [],
      "source": [
        "train_text = text_data[:int(0.8*len(text_data))]\n",
        "test_text = text_data[int(0.8*len(text_data)):]"
      ]
    },
    {
      "cell_type": "code",
      "execution_count": 6,
      "metadata": {
        "id": "YvY6N1NOJBp4"
      },
      "outputs": [],
      "source": [
        "path = \"\"\n",
        "\n",
        "with open(path + \"train_text.txt\", \"w\") as f:\n",
        "  f.write(train_text)\n",
        "\n",
        "with open(path + \"test_text.txt\", \"w\") as f:\n",
        "  f.write(test_text)"
      ]
    },
    {
      "cell_type": "markdown",
      "metadata": {},
      "source": [
        "We are now ready to fine-tune the GPT-2 model on our Java code dataset. To do so, we will make use of the Hugging Face Transformers library, which provides easy-to-use interfaces for working with pre-trained language models. This library is widely used in natural language processing tasks and provides a straightforward way to fine-tune models on custom datasets. The model we will use is the `GPT2LMHeadModel`, which is the GPT-2 model with a language modeling head, consisting of 345M parameters, and has been pre-trained on a large corpus of text data."
      ]
    },
    {
      "cell_type": "code",
      "execution_count": 3,
      "metadata": {
        "id": "PtlKHDFWHHjV"
      },
      "outputs": [],
      "source": [
        "from transformers import TextDataset, DataCollatorForLanguageModeling\n",
        "from transformers import GPT2Tokenizer, GPT2LMHeadModel\n",
        "from transformers import Trainer, TrainingArguments\n",
        "\n",
        "import torch"
      ]
    },
    {
      "cell_type": "code",
      "execution_count": 4,
      "metadata": {
        "id": "rVzM1sgaHddt"
      },
      "outputs": [],
      "source": [
        "def load_dataset(file_path, tokenizer, block_size = 128):\n",
        "    dataset = TextDataset(\n",
        "        tokenizer = tokenizer,\n",
        "        file_path = file_path,\n",
        "        block_size = block_size,\n",
        "    )\n",
        "    return dataset\n",
        "\n",
        "\n",
        "def load_data_collator(tokenizer, mlm = False):\n",
        "    data_collator = DataCollatorForLanguageModeling(\n",
        "        tokenizer=tokenizer,\n",
        "        mlm=mlm,\n",
        "    )\n",
        "    return data_collator"
      ]
    },
    {
      "cell_type": "markdown",
      "metadata": {},
      "source": [
        "The training process involves feeding the model with Java code snippets and training it to predict the next token in the sequence. By doing so, the model learns the underlying patterns and structures of Java code, enabling it to generate new code snippets that are syntactically correct and contextually relevant. Thus, this is an autoregressive training process, where we simply show the model how to generate Java code by providing it with examples from our dataset without any additional purpose."
      ]
    },
    {
      "cell_type": "code",
      "execution_count": 5,
      "metadata": {
        "id": "8vuIiezTHjIj"
      },
      "outputs": [],
      "source": [
        "def train(train_file_path,model_name,\n",
        "          output_dir,\n",
        "          overwrite_output_dir,\n",
        "          per_device_train_batch_size,\n",
        "          num_train_epochs,\n",
        "          save_steps):\n",
        "  tokenizer = GPT2Tokenizer.from_pretrained(model_name)\n",
        "  tokenizer.save_pretrained(output_dir)\n",
        "\n",
        "  train_dataset = load_dataset(train_file_path, tokenizer)\n",
        "  data_collator = load_data_collator(tokenizer)\n",
        "\n",
        "  model = GPT2LMHeadModel.from_pretrained(model_name)\n",
        "  \n",
        "  device = torch.device(\"cuda\" if torch.cuda.is_available() else \"cpu\")\n",
        "  model.to(device)\n",
        "  model.save_pretrained(output_dir)\n",
        "\n",
        "  training_args = TrainingArguments(\n",
        "          output_dir=output_dir,\n",
        "          overwrite_output_dir=overwrite_output_dir,\n",
        "          per_device_train_batch_size=per_device_train_batch_size,\n",
        "          num_train_epochs=num_train_epochs,\n",
        "          save_steps=save_steps,\n",
        "      )\n",
        "  \n",
        "  print(model.device)\n",
        "  trainer = Trainer(\n",
        "          model=model,\n",
        "          args=training_args,\n",
        "          data_collator=data_collator,\n",
        "          train_dataset=train_dataset,\n",
        "  )\n",
        "\n",
        "  trainer.train()\n",
        "  trainer.save_model()"
      ]
    },
    {
      "cell_type": "markdown",
      "metadata": {},
      "source": [
        "We can now proceed with the fine-tuning process. We will run 5 epochs of training, which should be sufficient to capture the patterns in the Java code and fine-tune the model effectively, due to the huge amount of data we have. We will use a batch size of 8 and save the model checkpoints at regular intervals to monitor the training progress."
      ]
    },
    {
      "cell_type": "code",
      "execution_count": 7,
      "metadata": {
        "id": "dzUfgICOIlog"
      },
      "outputs": [],
      "source": [
        "train_file_path = \"train_text.txt\"\n",
        "model_name = 'gpt2'\n",
        "\n",
        "output_dir = 'models/custom_gpt2'\n",
        "overwrite_output_dir = True\n",
        "per_device_train_batch_size = 8\n",
        "num_train_epochs = 5\n",
        "save_steps = 0"
      ]
    },
    {
      "cell_type": "code",
      "execution_count": 11,
      "metadata": {
        "colab": {
          "base_uri": "https://localhost:8080/",
          "height": 619,
          "referenced_widgets": [
            "b19445a54c2249858f842f3dccc39560",
            "d70cf75a58e748f197caeeb842c6ee8e",
            "6852c8b6ead84cc7b996610e3f2f2057",
            "80121289c64f4837a7e5a29e7a281d94",
            "a6edfdf553d34cdea52bdb86ba8f5504",
            "ebb5317c08df4d3f8632ed43687c6cdf",
            "9fef742dfdbc4b3eabd8ff7d38b60144",
            "00e5aac2a2304bad9173aa4e5127809f",
            "a570e86e0a2844d0b310ec2b498808aa",
            "f06d9fead8664ed4a4755fa2a482f17e",
            "fbef761cf0224638ab6d7ae16f0e2b6e",
            "c3a27b59549146ca89de4903e3739fdb",
            "b54a2b7e038a44f49f140f0ad84da85f",
            "13ffd8f6d9174e429f1b75dfaacd0197",
            "5175aba1920a4a659dee7a593548f064",
            "f16f9212bb7244b6b3b8b76000c2148b",
            "05d6b7dab68a47279ce4a4af3e48f6e8",
            "6515c38ae93648049018e4138d8d6585",
            "17d6cb23ed7647ad9a3f5efbdac73f72",
            "2f011469f8ba4b02ac6af015a52985d7",
            "90b523f2d0c54bde903bfef6dff362e8",
            "bad97316123740ccad6d856c66990ffa",
            "e52cdec797bf47e2b76c0840b4d4b604",
            "de557ef58e064fcba45697c48929f026",
            "4118d3804eb8474998d8d83f7712f240",
            "16137e0c5f2d4be4b99aec150c13e364",
            "2fc0283a9ba54e0c90f1f872e823bab5",
            "7a7c893f83b243d3a7d98a596aa11b04",
            "17eb5fb4ba6b45cab22b9729ef938335",
            "2d1d16a78f7446ae8968f54051716994",
            "fc64b525124b4a4491fe5d229776d3ba",
            "00739b0ac51841f8b334327fc1fea6f8",
            "15bcb7b701184811878e21b810ad53eb",
            "58000c76a04d4e2fbd6a580b96677041",
            "0caab611ecbf46db9f11bd24f7d9ff2b",
            "36647f5d5cb34fa19810fab2554b8994",
            "8268f5ad34b3414eaadf208482980002",
            "ad9e34698c364f0bae518bfffbf94426",
            "b4a98534324b40f7b90200130fcd5ce3",
            "bbd121cff3a74fa5b218676528cd4fc6",
            "f9d5cf3d35d94b15aa33142203ba0ae7",
            "dbecb0d241e9464ab58689bd70e134bb",
            "e68a2d87ced743d4abc61d081fa1ac86",
            "99dc242f427948debab0cc70d5407492",
            "9bbdda6504b6499b941ae324afef7053",
            "afcdb09970be4c439f161997579b8bea",
            "47f8ea6e53ad418293ec4273e61bb521",
            "32be3e27fa304c118a96973d924cc012",
            "34c77b819f2d47c6bd3f9eb8144777ca",
            "a5fa8d4a939f43bcae524c9a92a2f100",
            "3d88d77ef78d4ec4a68a25a6f6934150",
            "727f764f5c8f4f82af1d3f11b3d9108e",
            "7e16142d8032440c87ae915cc5a27ae9",
            "5c6fe51d404e445dbe948362e3992bfe",
            "b0c749053ef243cdb0f95811b2d0b821",
            "b4504da4b86049ccb04600f664cc74d2",
            "cff8a2d10a364fafbf640b8b3168089d",
            "4862113980f3479ebd2341c7426e2874",
            "a5c67dedefed44d19a7188b68be350c0",
            "8664866a2c4f449b8e25852f1b7fe05f",
            "1d1d830533a44449915a3f2e58f069ee",
            "ed2211ca108d40cfb1fe0e24123f13d9",
            "fb9f3d3f1b444afda4f408ee6bbb247f",
            "6522b54e706149688d39e8c5207bb8f5",
            "f1238f52c2b8400f83ec09f567547523",
            "40be2ca691174a8b81822ad6a0b2de47",
            "c9875223c121449c924a2aaf43c5c7bf",
            "152c725949e14dfbb30b17e414663e47",
            "94328f8882ac4f719a8ce5f3fe0a6ea5",
            "7dee7534a4bb44e5ad9fa600555035fc",
            "ca5baeb9f9d54d6b8c52cd6ba4fce11f",
            "5a1d24a06af842f6b68e538ed42e7aba",
            "f5369b241d13462ea5a1a914806809d4",
            "1ee7f9d0edff4bb8b0f51a5fbe206933",
            "3e3b911b48ae40aa80a6472b250ad451",
            "359266308929448ab9c0079e654350f4",
            "50d1f3c26b82482988bd1af3fcf47719"
          ]
        },
        "id": "99yVWLQTmg-0",
        "outputId": "f2bff619-3ebe-4866-9abc-7a0e99535d2e"
      },
      "outputs": [
        {
          "name": "stderr",
          "output_type": "stream",
          "text": [
            "C:\\Users\\carde\\AppData\\Local\\Packages\\PythonSoftwareFoundation.Python.3.9_qbz5n2kfra8p0\\LocalCache\\local-packages\\Python39\\site-packages\\transformers\\tokenization_utils_base.py:1601: FutureWarning: `clean_up_tokenization_spaces` was not set. It will be set to `True` by default. This behavior will be depracted in transformers v4.45, and will be then set to `False` by default. For more details check this issue: https://github.com/huggingface/transformers/issues/31884\n",
            "  warnings.warn(\n",
            "C:\\Users\\carde\\AppData\\Local\\Packages\\PythonSoftwareFoundation.Python.3.9_qbz5n2kfra8p0\\LocalCache\\local-packages\\Python39\\site-packages\\transformers\\data\\datasets\\language_modeling.py:53: FutureWarning: This dataset will be removed from the library soon, preprocessing should be handled with the 🤗 Datasets library. You can have a look at this example script for pointers: https://github.com/huggingface/transformers/blob/main/examples/pytorch/language-modeling/run_mlm.py\n",
            "  warnings.warn(\n"
          ]
        },
        {
          "name": "stdout",
          "output_type": "stream",
          "text": [
            "cuda:0\n"
          ]
        },
        {
          "name": "stderr",
          "output_type": "stream",
          "text": [
            " 19%|█▊        | 500/2695 [08:29<43:06,  1.18s/it]"
          ]
        },
        {
          "name": "stdout",
          "output_type": "stream",
          "text": [
            "{'loss': 1.3206, 'grad_norm': 2.9556143283843994, 'learning_rate': 4.072356215213358e-05, 'epoch': 0.93}\n"
          ]
        },
        {
          "name": "stderr",
          "output_type": "stream",
          "text": [
            " 37%|███▋      | 1000/2695 [23:05<32:16,  1.14s/it] "
          ]
        },
        {
          "name": "stdout",
          "output_type": "stream",
          "text": [
            "{'loss': 0.978, 'grad_norm': 2.8398938179016113, 'learning_rate': 3.144712430426716e-05, 'epoch': 1.86}\n"
          ]
        },
        {
          "name": "stderr",
          "output_type": "stream",
          "text": [
            " 56%|█████▌    | 1500/2695 [34:42<31:18,  1.57s/it]"
          ]
        },
        {
          "name": "stdout",
          "output_type": "stream",
          "text": [
            "{'loss': 0.8559, 'grad_norm': 2.53639554977417, 'learning_rate': 2.2170686456400745e-05, 'epoch': 2.78}\n"
          ]
        },
        {
          "name": "stderr",
          "output_type": "stream",
          "text": [
            " 74%|███████▍  | 2000/2695 [48:35<20:01,  1.73s/it]"
          ]
        },
        {
          "name": "stdout",
          "output_type": "stream",
          "text": [
            "{'loss': 0.7798, 'grad_norm': 4.038917541503906, 'learning_rate': 1.2894248608534323e-05, 'epoch': 3.71}\n"
          ]
        },
        {
          "name": "stderr",
          "output_type": "stream",
          "text": [
            " 93%|█████████▎| 2500/2695 [1:03:11<05:43,  1.76s/it]"
          ]
        },
        {
          "name": "stdout",
          "output_type": "stream",
          "text": [
            "{'loss': 0.7252, 'grad_norm': 2.581815242767334, 'learning_rate': 3.6178107606679037e-06, 'epoch': 4.64}\n"
          ]
        },
        {
          "name": "stderr",
          "output_type": "stream",
          "text": [
            "100%|██████████| 2695/2695 [1:08:59<00:00,  1.54s/it]\n"
          ]
        },
        {
          "name": "stdout",
          "output_type": "stream",
          "text": [
            "{'train_runtime': 4139.586, 'train_samples_per_second': 5.201, 'train_steps_per_second': 0.651, 'train_loss': 0.91506334067718, 'epoch': 5.0}\n"
          ]
        }
      ],
      "source": [
        "train(\n",
        "    train_file_path=train_file_path,\n",
        "    model_name=model_name,\n",
        "    output_dir=output_dir,\n",
        "    overwrite_output_dir=overwrite_output_dir,\n",
        "    per_device_train_batch_size=per_device_train_batch_size,\n",
        "    num_train_epochs=num_train_epochs,\n",
        "    save_steps=save_steps\n",
        ")"
      ]
    },
    {
      "cell_type": "markdown",
      "metadata": {},
      "source": [
        "As we can appreciate, the training process is computationally intensive and may take a considerable amount of time to complete. Therefore, we recommend running this notebook on a machine with a GPU to accelerate the training process. However, we achieve a loss of only 0.7252 withing 5 epochs, which is a good sign that the model is learning the Java code patterns effectively, which we will confirm in the next section."
      ]
    },
    {
      "cell_type": "markdown",
      "metadata": {
        "id": "P4vyQSlHmh7e"
      },
      "source": [
        "# Model Evaluation"
      ]
    },
    {
      "cell_type": "markdown",
      "metadata": {
        "id": "O6MszrNwx8a5"
      },
      "source": [
        "We can now proceed testing the model we have just trained. We will provide the model with a prompt, which is an incomplete Java code snippet, and ask it to generate the next tokens to complete the code. By examining the generated output, we can evaluate the model's ability to generate Java-like code that adheres to the syntax and structure of the Java programming language."
      ]
    },
    {
      "cell_type": "code",
      "execution_count": 8,
      "metadata": {
        "id": "aUV03b_nJmXT"
      },
      "outputs": [],
      "source": [
        "def load_model(model_path):\n",
        "    model = GPT2LMHeadModel.from_pretrained(model_path)\n",
        "    return model\n",
        "\n",
        "\n",
        "def load_tokenizer(tokenizer_path):\n",
        "    tokenizer = GPT2Tokenizer.from_pretrained(tokenizer_path)\n",
        "    return tokenizer\n",
        "\n",
        "\n",
        "def generate_text(model_path, sequence, extra_length):\n",
        "    model = load_model(model_path).to(torch.device(\"cuda\"))\n",
        "    model.requires_grad_(False)\n",
        "    tokenizer = load_tokenizer(model_path)\n",
        "\n",
        "    ids = tokenizer.encode(f'{sequence}', return_tensors='pt').to(torch.device(\"cuda\"))\n",
        "    final_outputs = model.generate(\n",
        "        ids,\n",
        "        do_sample=True,\n",
        "        max_length=len(ids) + extra_length,\n",
        "        pad_token_id=model.config.eos_token_id,\n",
        "        top_k=50,\n",
        "        top_p=0.95,\n",
        "    )\n",
        "\n",
        "    print(tokenizer.decode(final_outputs[0], skip_special_tokens=True))"
      ]
    },
    {
      "cell_type": "markdown",
      "metadata": {
        "id": "23X7j-6_yFU1"
      },
      "source": [
        "Feel free to modify `sequence` variable in order to test the model yourself:"
      ]
    },
    {
      "cell_type": "code",
      "execution_count": 11,
      "metadata": {
        "colab": {
          "base_uri": "https://localhost:8080/"
        },
        "id": "ZAOy1wRRmZqf",
        "outputId": "7b1925e1-b5e7-4a33-b385-2b416751bb1c"
      },
      "outputs": [
        {
          "name": "stdout",
          "output_type": "stream",
          "text": [
            "public class EndpointRepository { private final WebEndpointWebServer host; @Override public String to\n"
          ]
        }
      ],
      "source": [
        "sequence = \"public class\"\n",
        "generate_text(output_dir, sequence, extra_length=20)"
      ]
    },
    {
      "cell_type": "code",
      "execution_count": 10,
      "metadata": {},
      "outputs": [
        {
          "name": "stdout",
          "output_type": "stream",
          "text": [
            "public static void main(String[] args) { ConfigurableObjectMapper config = new ConfigurableObject\n"
          ]
        }
      ],
      "source": [
        "sequence = \"public static void\"\n",
        "generate_text(output_dir, sequence, extra_length=20)"
      ]
    },
    {
      "cell_type": "code",
      "execution_count": 12,
      "metadata": {},
      "outputs": [
        {
          "name": "stdout",
          "output_type": "stream",
          "text": [
            "@Override public static final Map<string, string>\n",
            " /* * Copyright 2012-2024 the original\n"
          ]
        }
      ],
      "source": [
        "sequence = \"@Override\"\n",
        "generate_text(output_dir, sequence, extra_length=20)"
      ]
    },
    {
      "cell_type": "code",
      "execution_count": 13,
      "metadata": {},
      "outputs": [
        {
          "name": "stdout",
          "output_type": "stream",
          "text": [
            "for (String link : String) { this.link = link; } void update(HttpServlet\n"
          ]
        }
      ],
      "source": [
        "sequence = \"for (String link :\"\n",
        "generate_text(output_dir, sequence, extra_length=20)"
      ]
    },
    {
      "cell_type": "markdown",
      "metadata": {
        "id": "ETo4aGGlqLz2"
      },
      "source": [
        "As we can see, the model seems to be generating something similar to what Java syntax would look like. However, it doesn't really seem to be generating Java code that is syntactically correct. Nevertheless, has the model learned the patterns of Java code? We can compare the trained model's output with the original GPT-2 model's output to see if there is any improvement, and we appreciate that the model has indeed learned some Java code patterns."
      ]
    },
    {
      "cell_type": "code",
      "execution_count": 31,
      "metadata": {},
      "outputs": [
        {
          "name": "stderr",
          "output_type": "stream",
          "text": [
            "C:\\Users\\carde\\AppData\\Local\\Packages\\PythonSoftwareFoundation.Python.3.9_qbz5n2kfra8p0\\LocalCache\\local-packages\\Python39\\site-packages\\transformers\\tokenization_utils_base.py:1601: FutureWarning: `clean_up_tokenization_spaces` was not set. It will be set to `True` by default. This behavior will be depracted in transformers v4.45, and will be then set to `False` by default. For more details check this issue: https://github.com/huggingface/transformers/issues/31884\n",
            "  warnings.warn(\n"
          ]
        }
      ],
      "source": [
        "from transformers import pipeline, set_seed\n",
        "generator = pipeline('text-generation', model='gpt2', device=torch.device(\"cuda\"))"
      ]
    },
    {
      "cell_type": "code",
      "execution_count": 41,
      "metadata": {
        "colab": {
          "base_uri": "https://localhost:8080/"
        },
        "id": "6TuIDRvWncwn",
        "outputId": "e1776feb-6ea9-4545-e0c7-80ef4278c57b"
      },
      "outputs": [
        {
          "name": "stderr",
          "output_type": "stream",
          "text": [
            "Setting `pad_token_id` to `eos_token_id`:50256 for open-end generation.\n"
          ]
        },
        {
          "data": {
            "text/plain": [
              "[{'generated_text': 'public class Bool is a constructor function that provides an argument that you can use to define new value types for your classes:\\n\\nclass Bool'}]"
            ]
          },
          "execution_count": 41,
          "metadata": {},
          "output_type": "execute_result"
        }
      ],
      "source": [
        "sequence = \"public class\"\n",
        "generator(sequence, max_length=30, num_return_sequences=1)"
      ]
    },
    {
      "cell_type": "markdown",
      "metadata": {
        "id": "_8wgHZM8wSAt"
      },
      "source": [
        "Other examples are the following"
      ]
    },
    {
      "cell_type": "code",
      "execution_count": 65,
      "metadata": {
        "colab": {
          "base_uri": "https://localhost:8080/"
        },
        "id": "1pZ6h6dFoM05",
        "outputId": "a5b9bf8f-7e8e-411f-fdf1-b9564551970c"
      },
      "outputs": [
        {
          "name": "stdout",
          "output_type": "stream",
          "text": [
            "RePylot generation:\n"
          ]
        },
        {
          "name": "stderr",
          "output_type": "stream",
          "text": [
            "Setting `pad_token_id` to `eos_token_id`:50256 for open-end generation.\n"
          ]
        },
        {
          "name": "stdout",
          "output_type": "stream",
          "text": [
            "new HashMap<string, string>\n",
            " /* * Copyright 2012-2023 the original author or authors\n",
            "\n",
            "GPT-2 generation:\n"
          ]
        },
        {
          "data": {
            "text/plain": [
              "[{'generated_text': \"new Hash-Entry `initiate_hash_entry'); fn start(_ & mut self, hash: & mut T) -> Self { let\"}]"
            ]
          },
          "execution_count": 65,
          "metadata": {},
          "output_type": "execute_result"
        }
      ],
      "source": [
        "sequence = \"new Hash\"\n",
        "\n",
        "print(\"RePylot generation:\")\n",
        "generate_text(output_dir, sequence, extra_length=20)\n",
        "\n",
        "print(\"\\nGPT-2 generation:\")\n",
        "generator(sequence, max_length=30, num_return_sequences=1)"
      ]
    },
    {
      "cell_type": "markdown",
      "metadata": {},
      "source": [
        "### Improving the Dataset"
      ]
    },
    {
      "cell_type": "markdown",
      "metadata": {},
      "source": [
        "The model recently trained has shown some potential in generating Java-like code. However, there is still room for improvement. Indeed, the model isn't capable of generating yet an important part of Java syntax, which is the indentation. This is a crucial aspect of Java code, as it defines the structure and hierarchy of the code blocks. This problem is directly related to the dataset used for training, as the code snippets in the dataset do not include indentation. To overcome this limitation, we need to preprocess the dataset to include proper indentation in the code snippets. This will help the model learn the correct structure of Java code and generate more accurate and syntactically correct code snippets."
      ]
    },
    {
      "cell_type": "code",
      "execution_count": 7,
      "metadata": {},
      "outputs": [],
      "source": [
        "dataset_path = \"./autoreg_data\""
      ]
    },
    {
      "cell_type": "code",
      "execution_count": 73,
      "metadata": {},
      "outputs": [],
      "source": [
        "def read_file(path):\n",
        "  content = \"\"\n",
        "  try:\n",
        "      with open(path) as f:\n",
        "        for line in f.readlines():\n",
        "          content += line\n",
        "  except:\n",
        "    pass\n",
        "\n",
        "  return content"
      ]
    },
    {
      "cell_type": "code",
      "execution_count": null,
      "metadata": {},
      "outputs": [],
      "source": [
        "text_data = read_files(dataset_path)"
      ]
    },
    {
      "cell_type": "code",
      "execution_count": 75,
      "metadata": {},
      "outputs": [],
      "source": [
        "with open(path + \"train_text_lines.txt\", \"w\") as f:\n",
        "  f.write(text_data)"
      ]
    },
    {
      "cell_type": "markdown",
      "metadata": {},
      "source": [
        "Now, we have prepared a new dataset that includes indentation in the Java code snippets. We will use this dataset to fine-tune the GPT-2 model once again, with the goal of improving the model's ability to generate Java-like code that adheres to the syntax and structure of the Java programming language. The training process will be similar to the previous one, but we have modified the number of epochs to 3, since the model has been already trained on Java code patterns and we are only focusing on improving the indentation aspect."
      ]
    },
    {
      "cell_type": "code",
      "execution_count": 14,
      "metadata": {},
      "outputs": [],
      "source": [
        "train_file_path = \"train_text_lines.txt\"\n",
        "model_name = 'models/custom_gpt2'\n",
        "\n",
        "output_dir = 'models/custom_gpt2_10'\n",
        "overwrite_output_dir = True\n",
        "per_device_train_batch_size = 8\n",
        "num_train_epochs = 2.5\n",
        "save_steps = 0"
      ]
    },
    {
      "cell_type": "code",
      "execution_count": 9,
      "metadata": {},
      "outputs": [
        {
          "name": "stderr",
          "output_type": "stream",
          "text": [
            "C:\\Users\\carde\\AppData\\Local\\Packages\\PythonSoftwareFoundation.Python.3.9_qbz5n2kfra8p0\\LocalCache\\local-packages\\Python39\\site-packages\\transformers\\data\\datasets\\language_modeling.py:53: FutureWarning: This dataset will be removed from the library soon, preprocessing should be handled with the 🤗 Datasets library. You can have a look at this example script for pointers: https://github.com/huggingface/transformers/blob/main/examples/pytorch/language-modeling/run_mlm.py\n",
            "  warnings.warn(\n"
          ]
        },
        {
          "name": "stdout",
          "output_type": "stream",
          "text": [
            "cuda:0\n"
          ]
        },
        {
          "name": "stderr",
          "output_type": "stream",
          "text": [
            " 10%|█         | 500/4775 [11:31<1:51:16,  1.56s/it]"
          ]
        },
        {
          "name": "stdout",
          "output_type": "stream",
          "text": [
            "{'loss': 1.5515, 'grad_norm': 1.981380581855774, 'learning_rate': 4.4764397905759164e-05, 'epoch': 0.26}\n"
          ]
        },
        {
          "name": "stderr",
          "output_type": "stream",
          "text": [
            " 21%|██        | 1000/4775 [24:54<1:40:48,  1.60s/it]"
          ]
        },
        {
          "name": "stdout",
          "output_type": "stream",
          "text": [
            "{'loss': 1.3418, 'grad_norm': 1.7969576120376587, 'learning_rate': 3.9528795811518326e-05, 'epoch': 0.52}\n"
          ]
        },
        {
          "name": "stderr",
          "output_type": "stream",
          "text": [
            " 31%|███▏      | 1500/4775 [38:15<1:26:39,  1.59s/it]"
          ]
        },
        {
          "name": "stdout",
          "output_type": "stream",
          "text": [
            "{'loss': 1.2527, 'grad_norm': 2.2382631301879883, 'learning_rate': 3.429319371727749e-05, 'epoch': 0.79}\n"
          ]
        },
        {
          "name": "stderr",
          "output_type": "stream",
          "text": [
            " 42%|████▏     | 2000/4775 [51:30<1:14:11,  1.60s/it]"
          ]
        },
        {
          "name": "stdout",
          "output_type": "stream",
          "text": [
            "{'loss': 1.1795, 'grad_norm': 1.9175386428833008, 'learning_rate': 2.905759162303665e-05, 'epoch': 1.05}\n"
          ]
        },
        {
          "name": "stderr",
          "output_type": "stream",
          "text": [
            " 52%|█████▏    | 2500/4775 [1:04:55<1:01:33,  1.62s/it]"
          ]
        },
        {
          "name": "stdout",
          "output_type": "stream",
          "text": [
            "{'loss': 1.0933, 'grad_norm': 1.9383200407028198, 'learning_rate': 2.382198952879581e-05, 'epoch': 1.31}\n"
          ]
        },
        {
          "name": "stderr",
          "output_type": "stream",
          "text": [
            " 63%|██████▎   | 3000/4775 [1:18:30<48:08,  1.63s/it]  "
          ]
        },
        {
          "name": "stdout",
          "output_type": "stream",
          "text": [
            "{'loss': 1.0836, 'grad_norm': 1.7251787185668945, 'learning_rate': 1.8586387434554976e-05, 'epoch': 1.57}\n"
          ]
        },
        {
          "name": "stderr",
          "output_type": "stream",
          "text": [
            " 73%|███████▎  | 3500/4775 [1:31:56<34:16,  1.61s/it]"
          ]
        },
        {
          "name": "stdout",
          "output_type": "stream",
          "text": [
            "{'loss': 1.0489, 'grad_norm': 1.8688249588012695, 'learning_rate': 1.3350785340314136e-05, 'epoch': 1.83}\n"
          ]
        },
        {
          "name": "stderr",
          "output_type": "stream",
          "text": [
            " 84%|████████▍ | 4000/4775 [1:45:32<21:15,  1.65s/it]"
          ]
        },
        {
          "name": "stdout",
          "output_type": "stream",
          "text": [
            "{'loss': 1.0305, 'grad_norm': 2.081165075302124, 'learning_rate': 8.115183246073298e-06, 'epoch': 2.09}\n"
          ]
        },
        {
          "name": "stderr",
          "output_type": "stream",
          "text": [
            " 94%|█████████▍| 4500/4775 [1:58:56<07:22,  1.61s/it]"
          ]
        },
        {
          "name": "stdout",
          "output_type": "stream",
          "text": [
            "{'loss': 1.0004, 'grad_norm': 1.6340305805206299, 'learning_rate': 2.879581151832461e-06, 'epoch': 2.36}\n"
          ]
        },
        {
          "name": "stderr",
          "output_type": "stream",
          "text": [
            "100%|██████████| 4775/4775 [2:06:32<00:00,  1.59s/it]\n"
          ]
        },
        {
          "name": "stdout",
          "output_type": "stream",
          "text": [
            "{'train_runtime': 7592.838, 'train_samples_per_second': 5.03, 'train_steps_per_second': 0.629, 'train_loss': 1.1648007441815282, 'epoch': 2.5}\n"
          ]
        }
      ],
      "source": [
        "train(\n",
        "    train_file_path=train_file_path,\n",
        "    model_name=model_name,\n",
        "    output_dir=output_dir,\n",
        "    overwrite_output_dir=overwrite_output_dir,\n",
        "    per_device_train_batch_size=per_device_train_batch_size,\n",
        "    num_train_epochs=num_train_epochs,\n",
        "    save_steps=save_steps\n",
        ")"
      ]
    },
    {
      "cell_type": "markdown",
      "metadata": {},
      "source": [
        "Indeed, the model has learned the indentation patterns of Java code, and the generated code snippets now include proper indentation. This is a significant improvement over the previous model, as it demonstrates the model's ability to capture the hierarchical structure of Java code and generate code snippets that are syntactically correct and well-formatted."
      ]
    },
    {
      "cell_type": "code",
      "execution_count": 15,
      "metadata": {},
      "outputs": [
        {
          "name": "stdout",
          "output_type": "stream",
          "text": [
            "public class Main implement RequestForActionListener {\n",
            "\n",
            "    @Override\n",
            "    protected void request(\n",
            "         Request request) {\n",
            "          assertThat(request.getStatusLine().getStatusCode(), is(200));\n",
            "       \n"
          ]
        }
      ],
      "source": [
        "sequence = \"public class Main implement\"\n",
        "generate_text('models/custom_gpt2_10', sequence, extra_length=70)"
      ]
    },
    {
      "cell_type": "code",
      "execution_count": 16,
      "metadata": {},
      "outputs": [
        {
          "name": "stdout",
          "output_type": "stream",
          "text": [
            "public static int indexNodes() {\n",
            "        int i = 0;\n",
            "        boolean hasNoKey = false;\n",
            "        if(randomBoolean()) {\n",
            "            hasNoKey = true;\n",
            "         }\n",
            "\n",
            "         char[] nodeName = randomCharArray(0, randomIntBetween(0, 100));\n",
            "\n",
            "        // TODO: add additional\n"
          ]
        }
      ],
      "source": [
        "sequence = \"public static int\"\n",
        "generate_text('models/custom_gpt2_10', sequence, extra_length=120)"
      ]
    },
    {
      "cell_type": "code",
      "execution_count": 17,
      "metadata": {},
      "outputs": [
        {
          "name": "stdout",
          "output_type": "stream",
          "text": [
            "ArrayList<String> list =   new ArrayList<>();\n",
            "        for(int i = 0; i < s.length; i++) {\n",
            "           \n"
          ]
        }
      ],
      "source": [
        "sequence = \"ArrayList<String> list = \"\n",
        "generate_text('models/custom_gpt2_10', sequence, extra_length=50)"
      ]
    },
    {
      "cell_type": "markdown",
      "metadata": {},
      "source": [
        "# Instruction Tuning"
      ]
    },
    {
      "cell_type": "markdown",
      "metadata": {},
      "source": [
        "Once our model has been trained on Java code snippets with proper indentation in an autoregressive manner, we can further fine-tune it to generate Java code snippets based on specific instructions. This process involves providing the model with a prompt that includes a specific instruction or requirement, and then asking it to generate Java code that fulfills that instruction. By fine-tuning the model on a set of instruction-code pairs, we can teach it to generate Java code that meets specific criteria or follows certain guidelines.\n",
        "\n",
        "In this section, we will fine-tune the model on a dataset of instruction-code pairs, where each pair consists of an instruction and the corresponding Java code snippet that fulfills that instruction. Inspiring ourselves in the way Copilot works, we have decided that the best way for a user to specify these instructions is by providing a comment in the same code snippet. This way, it is natural for the user to specify the requirements of the code in the form of comments, which are a common practice in software development.\n",
        "\n",
        "The dataset we will use for this fine-tuning process contains one only instruction-code template, at least in this section, so we can test the model's ability to learn the specific instruction and generate Java code that fulfills it. The instruction is to create a method prints something that has been specified in the comment. Thus, an example of an instruction-code pair in the dataset would be:\n",
        "\n",
        "```java\n",
        "// Create a method that prints \"Hello, World!\"\n",
        "public void printHelloWorld() {\n",
        "    System.out.println(\"Hello, World!\");\n",
        "} </s>\n",
        "```"
      ]
    },
    {
      "cell_type": "markdown",
      "metadata": {},
      "source": [
        "Here, `//` will works as a start token for the instruction, and `</s>` will work as an end token for the instruction. This way, once the model generates the code asked by the instruction, it will generate the end token to indicate that the instruction has been fulfilled."
      ]
    },
    {
      "cell_type": "code",
      "execution_count": 37,
      "metadata": {},
      "outputs": [],
      "source": [
        "train_file_path = \"mock_data_instruct.jsonl\"\n",
        "model_name = 'models/custom_gpt2_10'\n",
        "\n",
        "output_dir = 'models/custom_gpt2_instruct_comments'\n",
        "overwrite_output_dir = True\n",
        "per_device_train_batch_size = 8\n",
        "num_train_epochs = 2.5\n",
        "save_steps = 0"
      ]
    },
    {
      "cell_type": "code",
      "execution_count": 38,
      "metadata": {},
      "outputs": [
        {
          "name": "stderr",
          "output_type": "stream",
          "text": [
            "C:\\Users\\carde\\AppData\\Local\\Packages\\PythonSoftwareFoundation.Python.3.9_qbz5n2kfra8p0\\LocalCache\\local-packages\\Python39\\site-packages\\transformers\\data\\datasets\\language_modeling.py:53: FutureWarning: This dataset will be removed from the library soon, preprocessing should be handled with the 🤗 Datasets library. You can have a look at this example script for pointers: https://github.com/huggingface/transformers/blob/main/examples/pytorch/language-modeling/run_mlm.py\n",
            "  warnings.warn(\n"
          ]
        },
        {
          "name": "stdout",
          "output_type": "stream",
          "text": [
            "cuda:0\n"
          ]
        },
        {
          "data": {
            "application/vnd.jupyter.widget-view+json": {
              "model_id": "ed32456d473d441b9c1ac09ab288a9ea",
              "version_major": 2,
              "version_minor": 0
            },
            "text/plain": [
              "  0%|          | 0/103 [00:00<?, ?it/s]"
            ]
          },
          "metadata": {},
          "output_type": "display_data"
        },
        {
          "name": "stdout",
          "output_type": "stream",
          "text": [
            "{'train_runtime': 62.247, 'train_samples_per_second': 12.892, 'train_steps_per_second': 1.655, 'train_loss': 0.8876300552516307, 'epoch': 2.51}\n"
          ]
        }
      ],
      "source": [
        "train(\n",
        "    train_file_path=train_file_path,\n",
        "    model_name=model_name,\n",
        "    output_dir=output_dir,\n",
        "    overwrite_output_dir=overwrite_output_dir,\n",
        "    per_device_train_batch_size=per_device_train_batch_size,\n",
        "    num_train_epochs=num_train_epochs,\n",
        "    save_steps=save_steps\n",
        ")"
      ]
    },
    {
      "cell_type": "markdown",
      "metadata": {},
      "source": [
        "After 2.5 epochs of training, let's test the model with some instructions.\n",
        "\n",
        "**(*) NOTE:** It is important to notice that we have only generated instructions using a single comment template. We did this in order to test the model's ability to infer the instructions from slightly different comments the model has not seen before, making use of the generalization capabilities of the model adquired during the base training. However, the model can be trained with multiple instruction templates to generate more complex code snippets."
      ]
    },
    {
      "cell_type": "code",
      "execution_count": 39,
      "metadata": {},
      "outputs": [],
      "source": [
        "def generate_text(model_path, sequence, extra_length):\n",
        "    model = load_model(model_path).to(torch.device(\"cuda\"))\n",
        "    model.requires_grad_(False)\n",
        "    tokenizer = load_tokenizer(model_path)\n",
        "\n",
        "    ids = tokenizer.encode(f'{sequence}', return_tensors='pt').to(torch.device(\"cuda\"))\n",
        "    final_outputs = model.generate(\n",
        "        ids,\n",
        "        do_sample=True,\n",
        "        max_length=len(ids) + extra_length,\n",
        "        pad_token_id=model.config.eos_token_id,\n",
        "        top_k=50,\n",
        "        top_p=0.95,\n",
        "    )\n",
        "\n",
        "    return tokenizer.decode(final_outputs[0], skip_special_tokens=True)"
      ]
    },
    {
      "cell_type": "code",
      "execution_count": 51,
      "metadata": {},
      "outputs": [
        {
          "name": "stdout",
          "output_type": "stream",
          "text": [
            "// A function printing transparente\n",
            "public void transparente() { System.out.println(\"transparente\"); } \n"
          ]
        }
      ],
      "source": [
        "sequence = \"// A function printing transparente\"\n",
        "text = generate_text('models/custom_gpt2_instruct_comments', sequence, extra_length=70)\n",
        "answer = text.split(\"</s>\")[0]\n",
        "print(answer)"
      ]
    },
    {
      "cell_type": "code",
      "execution_count": 99,
      "metadata": {},
      "outputs": [
        {
          "data": {
            "text/plain": [
              "'// A function that shows My Dog is Cute! by Stephane Nicoll\\npublic void myDotcalcute() { System.out.println(\"my dog is cutes\"); } '"
            ]
          },
          "execution_count": 99,
          "metadata": {},
          "output_type": "execute_result"
        }
      ],
      "source": [
        "sequence = \"// A function that shows My Dog is Cute\"\n",
        "text = generate_text('models/custom_gpt2_instruct_comments', sequence, extra_length=70)\n",
        "answer = text.split(\"</s>\")[0]\n",
        "answer"
      ]
    },
    {
      "cell_type": "code",
      "execution_count": 59,
      "metadata": {},
      "outputs": [
        {
          "name": "stdout",
          "output_type": "stream",
          "text": [
            "// A function that prints Cayetano explaining NLP\n",
            "public void Cayetano() { System.out.println(\"cayetano explaining nLP\"); } \n"
          ]
        }
      ],
      "source": [
        "sequence = \"// A function that prints Cayetano explaining NLP\"\n",
        "text = generate_text('models/custom_gpt2_instruct_comments', sequence, extra_length=70)\n",
        "answer = text.split(\"</s>\")[0]\n",
        "print(answer)"
      ]
    },
    {
      "cell_type": "code",
      "execution_count": 63,
      "metadata": {},
      "outputs": [
        {
          "name": "stdout",
          "output_type": "stream",
          "text": [
            "// Haz una función que imprima Cayetano put us a 10 on NLP\n",
            "public void Cayetano() { System.out.println(\"cayetano put us a 10 on NLP\"); } \n"
          ]
        }
      ],
      "source": [
        "sequence = \"// Haz una función que imprima Cayetano put us a 10 on NLP\"\n",
        "text = generate_text('models/custom_gpt2_instruct_comments', sequence, extra_length=70)\n",
        "answer = text.split(\"</s>\")[0]\n",
        "print(answer)"
      ]
    },
    {
      "cell_type": "code",
      "execution_count": 70,
      "metadata": {},
      "outputs": [
        {
          "name": "stdout",
          "output_type": "stream",
          "text": [
            "// Haz una función que imprima Óscar and Ricardo did a great job!\n",
            "public void ÓscarAndRico() { System.out.println(\"áscar and Ricardo did a great job!\"); } \n"
          ]
        }
      ],
      "source": [
        "sequence = \"// Haz una función que imprima Óscar and Ricardo did a great job!\"\n",
        "text = generate_text('models/custom_gpt2_instruct_comments', sequence, extra_length=70)\n",
        "answer = text.split(\"</s>\")[0]\n",
        "print(answer)"
      ]
    },
    {
      "cell_type": "code",
      "execution_count": 83,
      "metadata": {},
      "outputs": [
        {
          "name": "stdout",
          "output_type": "stream",
          "text": [
            "// A function showing to the user Hello!\n",
            "public void hello() { System.out.println(\"hello\"); } \n"
          ]
        }
      ],
      "source": [
        "sequence = \"// A function showing to the user Hello!\"\n",
        "text = generate_text('models/custom_gpt2_instruct_comments', sequence, extra_length=70)\n",
        "answer = text.split(\"</s>\")[0]\n",
        "print(answer)"
      ]
    },
    {
      "cell_type": "code",
      "execution_count": 96,
      "metadata": {},
      "outputs": [
        {
          "name": "stdout",
          "output_type": "stream",
          "text": [
            "// Función que saque Hola mundo! por pantalla!\n",
            "public void humora() { System.out.println(\"hola mundo!\"); } \n"
          ]
        }
      ],
      "source": [
        "sequence = \"// Función que saque Hola mundo! por pantalla\"\n",
        "text = generate_text('models/custom_gpt2_instruct_comments', sequence, extra_length=70)\n",
        "answer = text.split(\"</s>\")[0]\n",
        "print(answer)"
      ]
    },
    {
      "cell_type": "markdown",
      "metadata": {},
      "source": [
        "### Model Evaluation"
      ]
    },
    {
      "cell_type": "markdown",
      "metadata": {},
      "source": [
        "The instructed fine-tuned model seems to be working. However, it doesn't work that well for all cases. As shown in the next test, the model is only able to generate the correct code a 55.1% of the times, when it is asked to create a method that prints strings the model has not seen before. This shows that the model is not able to generalize well to unseen data, and it is not that good generating code that is not in the training set."
      ]
    },
    {
      "cell_type": "code",
      "execution_count": 157,
      "metadata": {},
      "outputs": [],
      "source": [
        "import regex as re"
      ]
    },
    {
      "cell_type": "code",
      "execution_count": 166,
      "metadata": {},
      "outputs": [],
      "source": [
        "def check_print(answer, word):\n",
        "    inside = re.search(r\"System\\.out\\.println\\((.*)\\)\", answer)\n",
        "\n",
        "    if inside:\n",
        "        inside = inside.group(1).replace(\"\\\"\", \"\").lower()\n",
        "\n",
        "        if word.lower() in inside:\n",
        "            return True\n",
        "        \n",
        "    return False"
      ]
    },
    {
      "cell_type": "code",
      "execution_count": 201,
      "metadata": {},
      "outputs": [],
      "source": [
        "words = [\"cayetano\", \"Oscar\", \"ricardo\", \"dog\", \"cute\", \"great\", \"job\", \"hello\", \"world\", \"pantalla\", \"mundo\", \"hola\", \"funcion\", \"imprime\", \"explicando\", \"transparente\", \"us\", \"NLP\", \"10\", \"put\", \"shows\", \"user\", \"explaining\", \"imprimir\", \"pantalla\", \"imprime\", \"explicando\", \"usuario\", \"muestra\"]"
      ]
    },
    {
      "cell_type": "code",
      "execution_count": 168,
      "metadata": {},
      "outputs": [
        {
          "name": "stdout",
          "output_type": "stream",
          "text": [
            "Word: cayetano\n",
            "GPT2 generation:\n",
            "// A function that prints cayetano\n",
            "public void acesecu() { System.out.println(\"acesecu\"); } \n",
            "Valid print: False\n",
            "\n",
            "\n",
            "Word: Oscar\n",
            "GPT2 generation:\n",
            "// A function that prints Oscar\n",
            "public void Oscar() { System.out.println(\"obraza\"); } \n",
            "Valid print: False\n",
            "\n",
            "\n",
            "Word: ricardo\n",
            "GPT2 generation:\n",
            "// A function that prints ricardo\n",
            "public void ricardos() { System.out.println(\"ricardo\"); } \n",
            "Valid print: True\n",
            "\n",
            "\n",
            "Word: dog\n",
            "GPT2 generation:\n",
            "// A function that prints dog\n",
            "public void printIsafable() { System.out.println(\"isafable\"); } \n",
            "Valid print: False\n",
            "\n",
            "\n",
            "Word: cute\n",
            "GPT2 generation:\n",
            "// A function that prints cute\n",
            "public void cute() { System.out.println(\"cadorado\"); } \n",
            "Valid print: False\n",
            "\n",
            "\n",
            "Word: great\n",
            "GPT2 generation:\n",
            "// A function that prints great\n",
            "public void aGreat() { System.out.println(\"a great\"); } \n",
            "Valid print: True\n",
            "\n",
            "\n",
            "Word: job\n",
            "GPT2 generation:\n",
            "// A function that prints job\n",
            "public void job() { System.out.println(\"job\"); } \n",
            "Valid print: True\n",
            "\n",
            "\n",
            "Word: hello\n",
            "GPT2 generation:\n",
            "// A function that prints hello\n",
            "public void hello() { System.out.println(\"hello\"); } \n",
            "Valid print: True\n",
            "\n",
            "\n",
            "Word: world\n",
            "GPT2 generation:\n",
            "// A function that prints world\n",
            "public void globe() { System.out.println(\"world\"); } \n",
            "Valid print: True\n",
            "\n",
            "\n",
            "Word: pantalla\n",
            "GPT2 generation:\n",
            "// A function that prints pantalla\n",
            "public void pantalla() { System.out.println(\"principle\"); } \n",
            "Valid print: False\n",
            "\n",
            "\n",
            "Word: mundo\n",
            "GPT2 generation:\n",
            "// A function that prints mundo\n",
            "public void mundo() { System.out.println(\"mundo\"); } \n",
            "Valid print: True\n",
            "\n",
            "\n",
            "Word: hola\n",
            "GPT2 generation:\n",
            "// A function that prints hola\n",
            "public void hola() { System.out.println(\"hola\"); } \n",
            "Valid print: True\n",
            "\n",
            "\n",
            "Word: funcion\n",
            "GPT2 generation:\n",
            "// A function that prints funcion\n",
            "public void afunción() { System.out.println(\"afunción\"); } \n",
            "Valid print: False\n",
            "\n",
            "\n",
            "Word: imprime\n",
            "GPT2 generation:\n",
            "// A function that prints imprime\n",
            "public void imprime() { System.out.println(\"imprime\"); } \n",
            "Valid print: True\n",
            "\n",
            "\n",
            "Word: explicando\n",
            "GPT2 generation:\n",
            "// A function that prints explicando\n",
            "public void explicando() { System.out.println(\"explicando\"); } \n",
            "Valid print: True\n",
            "\n",
            "\n",
            "Word: transparente\n",
            "GPT2 generation:\n",
            "// A function that prints transparente\n",
            "public void transparente() { System.out.println(\"transparente\"); } \n",
            "Valid print: True\n",
            "\n",
            "\n",
            "Word: us\n",
            "GPT2 generation:\n",
            "// A function that prints us\n",
            "public void printable() { System.out.println(\"fairytale\"); } \n",
            "Valid print: False\n",
            "\n",
            "\n",
            "Word: NLP\n",
            "GPT2 generation:\n",
            "// A function that prints NLP\n",
            "public void A() { System.out.println(\"a función que imprima espléndido\"); } \n",
            "Valid print: False\n",
            "\n",
            "\n",
            "Word: 10\n",
            "GPT2 generation:\n",
            "// A function that prints 10\n",
            "public void print10() { System.out.println(\"10\"); } \n",
            "Valid print: True\n",
            "\n",
            "\n",
            "Word: put\n",
            "GPT2 generation:\n",
            "// A function that prints put\n",
            "public void put() { System.out.println(\"put\"); } \n",
            "Valid print: True\n",
            "\n",
            "\n",
            "Word: shows\n",
            "GPT2 generation:\n",
            "// A function that prints shows\n",
            "// Haz una función que imprima siento\n",
            "public void sedosiento() { System.out.println(\"siento\"); } \n",
            "Valid print: False\n",
            "\n",
            "\n",
            "Word: user\n",
            "GPT2 generation:\n",
            "// A function that prints user\n",
            "// Haz una función que imprima impresionante\n",
            "public void impresionante() { System.out.println(\"impresionante\"); } \n",
            "Valid print: False\n",
            "\n",
            "\n",
            "Word: explaining\n",
            "GPT2 generation:\n",
            "// A function that prints explaining\n",
            "public void explanation() { System.out.println(\"why why why why why explain why\"); } \n",
            "Valid print: False\n",
            "\n",
            "\n",
            "Word: imprimir\n",
            "GPT2 generation:\n",
            "// A function that prints imprimir\n",
            "public void imprimir() { System.out.println(\"imprimir\"); } \n",
            "Valid print: True\n",
            "\n",
            "\n",
            "Word: pantalla\n",
            "GPT2 generation:\n",
            "// A function that prints pantalla\n",
            "public void apiocalascaliento() { System.out.println(\"apiocalascaliento\"); } \n",
            "Valid print: False\n",
            "\n",
            "\n",
            "Word: imprime\n",
            "GPT2 generation:\n",
            "// A function that prints imprime\n",
            "public void imprime() { System.out.println(\"imprime\"); } \n",
            "Valid print: True\n",
            "\n",
            "\n",
            "Word: explicando\n",
            "GPT2 generation:\n",
            "// A function that prints explicando\n",
            "public void explicando() { System.out.println(\"explicando\"); } \n",
            "Valid print: True\n",
            "\n",
            "\n",
            "Word: usuario\n",
            "GPT2 generation:\n",
            "// A function that prints usuario\n",
            "public void amigable() { System.out.println(\"amigable\"); } \n",
            "Valid print: False\n",
            "\n",
            "\n",
            "Word: muestra\n",
            "GPT2 generation:\n",
            "// A function that prints muestra\n",
            "public void muestra() { System.out.println(\"muestra\"); } \n",
            "Valid print: True\n",
            "\n",
            "\n"
          ]
        }
      ],
      "source": [
        "count = 0\n",
        "\n",
        "for word in words:\n",
        "    print(f\"Word: {word}\")\n",
        "    print(\"GPT2 generation:\")\n",
        "    sequence = f\"// A function that prints {word}\\n\"\n",
        "    text = generate_text('models/custom_gpt2_instruct_comments', sequence, extra_length=70)\n",
        "    answer = text.split(\"</s>\")[0]\n",
        "    print(answer)\n",
        "\n",
        "    valid_print = check_print(answer, word)\n",
        "    print(f\"Valid print: {valid_print}\")\n",
        "    if valid_print:\n",
        "        count += 1\n",
        "\n",
        "    print(\"\\n\")"
      ]
    },
    {
      "cell_type": "code",
      "execution_count": 3,
      "metadata": {},
      "outputs": [
        {
          "name": "stdout",
          "output_type": "stream",
          "text": [
            "The model generated 55.1% of the methods correctly\n"
          ]
        }
      ],
      "source": [
        "acc = count/len(words)\n",
        "print(f'The model generated {acc*100}% of the methods correctly')"
      ]
    },
    {
      "cell_type": "markdown",
      "metadata": {},
      "source": [
        "### Improving the Dataset"
      ]
    },
    {
      "cell_type": "markdown",
      "metadata": {},
      "source": [
        "As an attempt to improve the model's performance, we can try to increase the number of samples in the dataset. To do so, we will use a dictionary of around 20 thausand words, where just a few are spanish words and the rest are english words. We will use this dictionary to generate much more instructions, combining these words together to come up with more complicated prompts."
      ]
    },
    {
      "cell_type": "code",
      "execution_count": 178,
      "metadata": {},
      "outputs": [],
      "source": [
        "train_file_path = \"grand_mock_data_instruct.jsonl\"\n",
        "model_name = 'models/custom_gpt2_instruct_comments'\n",
        "\n",
        "output_dir = 'models/custom_gpt2_instruct_comments_improved'\n",
        "overwrite_output_dir = True\n",
        "per_device_train_batch_size = 8\n",
        "num_train_epochs = 5\n",
        "save_steps = 0"
      ]
    },
    {
      "cell_type": "code",
      "execution_count": 179,
      "metadata": {},
      "outputs": [
        {
          "name": "stderr",
          "output_type": "stream",
          "text": [
            "C:\\Users\\carde\\AppData\\Local\\Packages\\PythonSoftwareFoundation.Python.3.9_qbz5n2kfra8p0\\LocalCache\\local-packages\\Python39\\site-packages\\transformers\\data\\datasets\\language_modeling.py:53: FutureWarning: This dataset will be removed from the library soon, preprocessing should be handled with the 🤗 Datasets library. You can have a look at this example script for pointers: https://github.com/huggingface/transformers/blob/main/examples/pytorch/language-modeling/run_mlm.py\n",
            "  warnings.warn(\n"
          ]
        },
        {
          "name": "stdout",
          "output_type": "stream",
          "text": [
            "cuda:0\n"
          ]
        },
        {
          "data": {
            "application/vnd.jupyter.widget-view+json": {
              "model_id": "a93d1e83fd574c7f8723de5bc2b0fad6",
              "version_major": 2,
              "version_minor": 0
            },
            "text/plain": [
              "  0%|          | 0/1955 [00:00<?, ?it/s]"
            ]
          },
          "metadata": {},
          "output_type": "display_data"
        },
        {
          "name": "stdout",
          "output_type": "stream",
          "text": [
            "{'loss': 1.0146, 'grad_norm': 1.6153161525726318, 'learning_rate': 3.721227621483376e-05, 'epoch': 1.28}\n",
            "{'loss': 0.8492, 'grad_norm': 1.2364546060562134, 'learning_rate': 2.442455242966752e-05, 'epoch': 2.56}\n",
            "{'loss': 0.7789, 'grad_norm': 1.2446939945220947, 'learning_rate': 1.163682864450128e-05, 'epoch': 3.84}\n",
            "{'train_runtime': 3449.962, 'train_samples_per_second': 4.53, 'train_steps_per_second': 0.567, 'train_loss': 0.8483959305316896, 'epoch': 5.0}\n"
          ]
        }
      ],
      "source": [
        "train(\n",
        "    train_file_path=train_file_path,\n",
        "    model_name=model_name,\n",
        "    output_dir=output_dir,\n",
        "    overwrite_output_dir=overwrite_output_dir,\n",
        "    per_device_train_batch_size=per_device_train_batch_size,\n",
        "    num_train_epochs=num_train_epochs,\n",
        "    save_steps=save_steps\n",
        ")"
      ]
    },
    {
      "cell_type": "markdown",
      "metadata": {},
      "source": [
        "As a result, we obtain better generations, with the model being able to generate the correct code 93.1% of the times, being the 6,9% remaining cases related to typos. This is a clear indication that the model could learn even more complex instructions if we provide it with a more diverse dataset."
      ]
    },
    {
      "cell_type": "code",
      "execution_count": 302,
      "metadata": {},
      "outputs": [
        {
          "name": "stdout",
          "output_type": "stream",
          "text": [
            "// Announce We are going to pass PLN with flying colors!\n",
            "public void announceWeareGoingToPassPlNwithFlyingComesUnrighted() {\n",
            "\tSystem.out.println(\"We are going to pass Pln with flying colors!\");\n",
            "} \n"
          ]
        }
      ],
      "source": [
        "sequence = \"// Announce We are going to pass PLN with flying colors!\\n\"\n",
        "text = generate_text('models/custom_gpt2_instruct_comments_improved', sequence, extra_length=70)\n",
        "answer = text.split(\"</s>\")[0]\n",
        "print(answer)"
      ]
    },
    {
      "cell_type": "code",
      "execution_count": 300,
      "metadata": {},
      "outputs": [
        {
          "name": "stdout",
          "output_type": "stream",
          "text": [
            "// Print En un lugar de la mancha de cuyo nombre no quiero acordarme, a sentence from El Quijote\n",
            "public void en unlugarDeLaManchaNombreNoQuieroAclarmeAclotharme() {\n",
            "\tSystem.out.println(\"En un lugar de la Mancha de Cuyo nombre no Quiero Acordarme\");\n",
            "} \n"
          ]
        }
      ],
      "source": [
        "sequence = \"// Print En un lugar de la mancha de cuyo nombre no quiero acordarme, a sentence from El Quijote\\n\"\n",
        "text = generate_text('models/custom_gpt2_instruct_comments_improved', sequence, extra_length=150)\n",
        "answer = text.split(\"</s>\")[0]\n",
        "print(answer)"
      ]
    },
    {
      "cell_type": "code",
      "execution_count": 257,
      "metadata": {},
      "outputs": [
        {
          "name": "stdout",
          "output_type": "stream",
          "text": [
            "// Lo que quieras\n",
            "public void loqueQuieras() {\n",
            "\tSystem.out.println(\"Loque Quieras\");\n",
            "} \n"
          ]
        }
      ],
      "source": [
        "sequence = \"// Lo que quieras\\n\"\n",
        "text = generate_text('models/custom_gpt2_instruct_comments_improved', sequence, extra_length=150)\n",
        "answer = text.split(\"</s>\")[0]\n",
        "print(answer)"
      ]
    },
    {
      "cell_type": "code",
      "execution_count": 202,
      "metadata": {},
      "outputs": [
        {
          "name": "stdout",
          "output_type": "stream",
          "text": [
            "Word: cayetano\n",
            "GPT2 generation:\n",
            "// A function that prints cayetano\n",
            "public void cayetano() {\n",
            "\tSystem.out.println(\"Cayetano\");\n",
            "} \n",
            "Valid print: True\n",
            "\n",
            "\n",
            "Word: Oscar\n",
            "GPT2 generation:\n",
            "// A function that prints Oscar\n",
            "public void Oscar() {\n",
            "\tSystem.out.println(\"Oscar\");\n",
            "} \n",
            "Valid print: True\n",
            "\n",
            "\n",
            "Word: ricardo\n",
            "GPT2 generation:\n",
            "// A function that prints ricardo\n",
            "public void ricario() {\n",
            "\tSystem.out.println(\"Ricario\");\n",
            "} \n",
            "Valid print: False\n",
            "\n",
            "\n",
            "Word: dog\n",
            "GPT2 generation:\n",
            "// A function that prints dog\n",
            "public void dog() {\n",
            "\tSystem.out.println(\"Dog\");\n",
            "} \n",
            "Valid print: True\n",
            "\n",
            "\n",
            "Word: cute\n",
            "GPT2 generation:\n",
            "// A function that prints cute\n",
            "public void cute() {\n",
            "\tSystem.out.println(\"Cute\");\n",
            "} \n",
            "Valid print: True\n",
            "\n",
            "\n",
            "Word: great\n",
            "GPT2 generation:\n",
            "// A function that prints great\n",
            "public void great() {\n",
            "\tSystem.out.println(\"Great\");\n",
            "} \n",
            "Valid print: True\n",
            "\n",
            "\n",
            "Word: job\n",
            "GPT2 generation:\n",
            "// A function that prints job\n",
            "public void job() {\n",
            "\tSystem.out.println(\"Job\");\n",
            "} \n",
            "Valid print: True\n",
            "\n",
            "\n",
            "Word: hello\n",
            "GPT2 generation:\n",
            "// A function that prints hello\n",
            "public void hello() {\n",
            "\tSystem.out.println(\"Hello\");\n",
            "} \n",
            "Valid print: True\n",
            "\n",
            "\n",
            "Word: world\n",
            "GPT2 generation:\n",
            "// A function that prints world\n",
            "public void world() {\n",
            "\tSystem.out.println(\"World\");\n",
            "} \n",
            "Valid print: True\n",
            "\n",
            "\n",
            "Word: pantalla\n",
            "GPT2 generation:\n",
            "// A function that prints pantalla\n",
            "public void pantalla() {\n",
            "\tSystem.out.println(\"Pantalla\");\n",
            "} \n",
            "Valid print: True\n",
            "\n",
            "\n",
            "Word: mundo\n",
            "GPT2 generation:\n",
            "// A function that prints mundo\n",
            "public void mundo() {\n",
            "\tSystem.out.println(\"Mundo\");\n",
            "} \n",
            "Valid print: True\n",
            "\n",
            "\n",
            "Word: hola\n",
            "GPT2 generation:\n",
            "// A function that prints hola\n",
            "public void hola() {\n",
            "\tSystem.out.println(\"Hola\");\n",
            "} \n",
            "Valid print: True\n",
            "\n",
            "\n",
            "Word: funcion\n",
            "GPT2 generation:\n",
            "// A function that prints funcion\n",
            "public void funcion() {\n",
            "\tSystem.out.println(\" funcion\");\n",
            "} \n",
            "Valid print: True\n",
            "\n",
            "\n",
            "Word: imprime\n",
            "GPT2 generation:\n",
            "// A function that prints imprime\n",
            "public void imprime() {\n",
            "\tSystem.out.println(\"Imprime\");\n",
            "} \n",
            "Valid print: True\n",
            "\n",
            "\n",
            "Word: explicando\n",
            "GPT2 generation:\n",
            "// A function that prints explicando\n",
            "public void explicando() {\n",
            "\tSystem.out.println(\"Explicando\");\n",
            "} \n",
            "Valid print: True\n",
            "\n",
            "\n",
            "Word: transparente\n",
            "GPT2 generation:\n",
            "// A function that prints transparente\n",
            "public void transparente() {\n",
            "\tSystem.out.println(\"Transparente\");\n",
            "} \n",
            "Valid print: True\n",
            "\n",
            "\n",
            "Word: us\n",
            "GPT2 generation:\n",
            "// A function that prints us\n",
            "public void us() {\n",
            "\tSystem.out.println(\"Us\");\n",
            "} \n",
            "Valid print: True\n",
            "\n",
            "\n",
            "Word: NLP\n",
            "GPT2 generation:\n",
            "// A function that prints NLP\n",
            "public void nLP() {\n",
            "\tSystem.out.println(\"NLP\");\n",
            "} \n",
            "Valid print: True\n",
            "\n",
            "\n",
            "Word: 10\n",
            "GPT2 generation:\n",
            "// A function that prints 10\n",
            "public void ten() {\n",
            "\tSystem.out.println(\"10\");\n",
            "} \n",
            "Valid print: True\n",
            "\n",
            "\n",
            "Word: put\n",
            "GPT2 generation:\n",
            "// A function that prints put\n",
            "public void put() {\n",
            "\tSystem.out.println(\"Put\");\n",
            "} \n",
            "Valid print: True\n",
            "\n",
            "\n",
            "Word: shows\n",
            "GPT2 generation:\n",
            "// A function that prints shows\n",
            "public void show() {\n",
            "\tSystem.out.println(\"Show\");\n",
            "} \n",
            "Valid print: False\n",
            "\n",
            "\n",
            "Word: user\n",
            "GPT2 generation:\n",
            "// A function that prints user\n",
            "public void user() {\n",
            "\tSystem.out.println(\"User\");\n",
            "} \n",
            "Valid print: True\n",
            "\n",
            "\n",
            "Word: explaining\n",
            "GPT2 generation:\n",
            "// A function that prints explaining\n",
            "public void explaining() {\n",
            "\tSystem.out.println(\"Explaining\");\n",
            "} \n",
            "Valid print: True\n",
            "\n",
            "\n",
            "Word: imprimir\n",
            "GPT2 generation:\n",
            "// A function that prints imprimir\n",
            "public void imprimir() {\n",
            "\tSystem.out.println(\"Imprimir\");\n",
            "} \n",
            "Valid print: True\n",
            "\n",
            "\n",
            "Word: pantalla\n",
            "GPT2 generation:\n",
            "// A function that prints pantalla\n",
            "public void pantalla() {\n",
            "\tSystem.out.println(\"Pantalla\");\n",
            "} \n",
            "Valid print: True\n",
            "\n",
            "\n",
            "Word: imprime\n",
            "GPT2 generation:\n",
            "// A function that prints imprime\n",
            "public void imprime() {\n",
            "\tSystem.out.println(\"Imprime\");\n",
            "} \n",
            "Valid print: True\n",
            "\n",
            "\n",
            "Word: explicando\n",
            "GPT2 generation:\n",
            "// A function that prints explicando\n",
            "public void explicando() {\n",
            "\tSystem.out.println(\"Explicando\");\n",
            "} \n",
            "Valid print: True\n",
            "\n",
            "\n",
            "Word: usuario\n",
            "GPT2 generation:\n",
            "// A function that prints usuario\n",
            "public void usuario() {\n",
            "\tSystem.out.println(\"Usuario\");\n",
            "} \n",
            "Valid print: True\n",
            "\n",
            "\n",
            "Word: muestra\n",
            "GPT2 generation:\n",
            "// A function that prints muestra\n",
            "public void muestra() {\n",
            "\tSystem.out.println(\"Muestra\");\n",
            "} \n",
            "Valid print: True\n",
            "\n",
            "\n"
          ]
        }
      ],
      "source": [
        "count = 0\n",
        "\n",
        "for word in words:\n",
        "    print(f\"Word: {word}\")\n",
        "    print(\"GPT2 generation:\")\n",
        "    sequence = f\"// A function that prints {word}\\n\"\n",
        "    text = generate_text('models/custom_gpt2_instruct_comments_improved', sequence, extra_length=70)\n",
        "    answer = text.split(\"</s>\")[0]\n",
        "    print(answer)\n",
        "\n",
        "    valid_print = check_print(answer, word)\n",
        "    print(f\"Valid print: {valid_print}\")\n",
        "    if valid_print:\n",
        "        count += 1\n",
        "\n",
        "    print(\"\\n\")"
      ]
    },
    {
      "cell_type": "code",
      "execution_count": 271,
      "metadata": {},
      "outputs": [
        {
          "name": "stdout",
          "output_type": "stream",
          "text": [
            "The model predicts 93.1% of the functions correctly\n"
          ]
        }
      ],
      "source": [
        "acc = count/len(words)\n",
        "print(f'The model predicts {round(acc*100,2)}% of the functions correctly')"
      ]
    }
  ],
  "metadata": {
    "accelerator": "GPU",
    "colab": {
      "gpuType": "T4",
      "provenance": []
    },
    "kernelspec": {
      "display_name": "Python 3",
      "language": "python",
      "name": "python3"
    },
    "language_info": {
      "codemirror_mode": {
        "name": "ipython",
        "version": 3
      },
      "file_extension": ".py",
      "mimetype": "text/x-python",
      "name": "python",
      "nbconvert_exporter": "python",
      "pygments_lexer": "ipython3",
      "version": "3.9.6"
    },
    "widgets": {
      "application/vnd.jupyter.widget-state+json": {
        "00739b0ac51841f8b334327fc1fea6f8": {
          "model_module": "@jupyter-widgets/base",
          "model_module_version": "1.2.0",
          "model_name": "LayoutModel",
          "state": {
            "_model_module": "@jupyter-widgets/base",
            "_model_module_version": "1.2.0",
            "_model_name": "LayoutModel",
            "_view_count": null,
            "_view_module": "@jupyter-widgets/base",
            "_view_module_version": "1.2.0",
            "_view_name": "LayoutView",
            "align_content": null,
            "align_items": null,
            "align_self": null,
            "border": null,
            "bottom": null,
            "display": null,
            "flex": null,
            "flex_flow": null,
            "grid_area": null,
            "grid_auto_columns": null,
            "grid_auto_flow": null,
            "grid_auto_rows": null,
            "grid_column": null,
            "grid_gap": null,
            "grid_row": null,
            "grid_template_areas": null,
            "grid_template_columns": null,
            "grid_template_rows": null,
            "height": null,
            "justify_content": null,
            "justify_items": null,
            "left": null,
            "margin": null,
            "max_height": null,
            "max_width": null,
            "min_height": null,
            "min_width": null,
            "object_fit": null,
            "object_position": null,
            "order": null,
            "overflow": null,
            "overflow_x": null,
            "overflow_y": null,
            "padding": null,
            "right": null,
            "top": null,
            "visibility": null,
            "width": null
          }
        },
        "00e5aac2a2304bad9173aa4e5127809f": {
          "model_module": "@jupyter-widgets/base",
          "model_module_version": "1.2.0",
          "model_name": "LayoutModel",
          "state": {
            "_model_module": "@jupyter-widgets/base",
            "_model_module_version": "1.2.0",
            "_model_name": "LayoutModel",
            "_view_count": null,
            "_view_module": "@jupyter-widgets/base",
            "_view_module_version": "1.2.0",
            "_view_name": "LayoutView",
            "align_content": null,
            "align_items": null,
            "align_self": null,
            "border": null,
            "bottom": null,
            "display": null,
            "flex": null,
            "flex_flow": null,
            "grid_area": null,
            "grid_auto_columns": null,
            "grid_auto_flow": null,
            "grid_auto_rows": null,
            "grid_column": null,
            "grid_gap": null,
            "grid_row": null,
            "grid_template_areas": null,
            "grid_template_columns": null,
            "grid_template_rows": null,
            "height": null,
            "justify_content": null,
            "justify_items": null,
            "left": null,
            "margin": null,
            "max_height": null,
            "max_width": null,
            "min_height": null,
            "min_width": null,
            "object_fit": null,
            "object_position": null,
            "order": null,
            "overflow": null,
            "overflow_x": null,
            "overflow_y": null,
            "padding": null,
            "right": null,
            "top": null,
            "visibility": null,
            "width": null
          }
        },
        "05d6b7dab68a47279ce4a4af3e48f6e8": {
          "model_module": "@jupyter-widgets/base",
          "model_module_version": "1.2.0",
          "model_name": "LayoutModel",
          "state": {
            "_model_module": "@jupyter-widgets/base",
            "_model_module_version": "1.2.0",
            "_model_name": "LayoutModel",
            "_view_count": null,
            "_view_module": "@jupyter-widgets/base",
            "_view_module_version": "1.2.0",
            "_view_name": "LayoutView",
            "align_content": null,
            "align_items": null,
            "align_self": null,
            "border": null,
            "bottom": null,
            "display": null,
            "flex": null,
            "flex_flow": null,
            "grid_area": null,
            "grid_auto_columns": null,
            "grid_auto_flow": null,
            "grid_auto_rows": null,
            "grid_column": null,
            "grid_gap": null,
            "grid_row": null,
            "grid_template_areas": null,
            "grid_template_columns": null,
            "grid_template_rows": null,
            "height": null,
            "justify_content": null,
            "justify_items": null,
            "left": null,
            "margin": null,
            "max_height": null,
            "max_width": null,
            "min_height": null,
            "min_width": null,
            "object_fit": null,
            "object_position": null,
            "order": null,
            "overflow": null,
            "overflow_x": null,
            "overflow_y": null,
            "padding": null,
            "right": null,
            "top": null,
            "visibility": null,
            "width": null
          }
        },
        "0caab611ecbf46db9f11bd24f7d9ff2b": {
          "model_module": "@jupyter-widgets/controls",
          "model_module_version": "1.5.0",
          "model_name": "HTMLModel",
          "state": {
            "_dom_classes": [],
            "_model_module": "@jupyter-widgets/controls",
            "_model_module_version": "1.5.0",
            "_model_name": "HTMLModel",
            "_view_count": null,
            "_view_module": "@jupyter-widgets/controls",
            "_view_module_version": "1.5.0",
            "_view_name": "HTMLView",
            "description": "",
            "description_tooltip": null,
            "layout": "IPY_MODEL_b4a98534324b40f7b90200130fcd5ce3",
            "placeholder": "​",
            "style": "IPY_MODEL_bbd121cff3a74fa5b218676528cd4fc6",
            "value": "tokenizer.json: 100%"
          }
        },
        "13ffd8f6d9174e429f1b75dfaacd0197": {
          "model_module": "@jupyter-widgets/controls",
          "model_module_version": "1.5.0",
          "model_name": "FloatProgressModel",
          "state": {
            "_dom_classes": [],
            "_model_module": "@jupyter-widgets/controls",
            "_model_module_version": "1.5.0",
            "_model_name": "FloatProgressModel",
            "_view_count": null,
            "_view_module": "@jupyter-widgets/controls",
            "_view_module_version": "1.5.0",
            "_view_name": "ProgressView",
            "bar_style": "success",
            "description": "",
            "description_tooltip": null,
            "layout": "IPY_MODEL_17d6cb23ed7647ad9a3f5efbdac73f72",
            "max": 1042301,
            "min": 0,
            "orientation": "horizontal",
            "style": "IPY_MODEL_2f011469f8ba4b02ac6af015a52985d7",
            "value": 1042301
          }
        },
        "152c725949e14dfbb30b17e414663e47": {
          "model_module": "@jupyter-widgets/controls",
          "model_module_version": "1.5.0",
          "model_name": "HTMLModel",
          "state": {
            "_dom_classes": [],
            "_model_module": "@jupyter-widgets/controls",
            "_model_module_version": "1.5.0",
            "_model_name": "HTMLModel",
            "_view_count": null,
            "_view_module": "@jupyter-widgets/controls",
            "_view_module_version": "1.5.0",
            "_view_name": "HTMLView",
            "description": "",
            "description_tooltip": null,
            "layout": "IPY_MODEL_5a1d24a06af842f6b68e538ed42e7aba",
            "placeholder": "​",
            "style": "IPY_MODEL_f5369b241d13462ea5a1a914806809d4",
            "value": "generation_config.json: 100%"
          }
        },
        "15bcb7b701184811878e21b810ad53eb": {
          "model_module": "@jupyter-widgets/controls",
          "model_module_version": "1.5.0",
          "model_name": "DescriptionStyleModel",
          "state": {
            "_model_module": "@jupyter-widgets/controls",
            "_model_module_version": "1.5.0",
            "_model_name": "DescriptionStyleModel",
            "_view_count": null,
            "_view_module": "@jupyter-widgets/base",
            "_view_module_version": "1.2.0",
            "_view_name": "StyleView",
            "description_width": ""
          }
        },
        "16137e0c5f2d4be4b99aec150c13e364": {
          "model_module": "@jupyter-widgets/controls",
          "model_module_version": "1.5.0",
          "model_name": "HTMLModel",
          "state": {
            "_dom_classes": [],
            "_model_module": "@jupyter-widgets/controls",
            "_model_module_version": "1.5.0",
            "_model_name": "HTMLModel",
            "_view_count": null,
            "_view_module": "@jupyter-widgets/controls",
            "_view_module_version": "1.5.0",
            "_view_name": "HTMLView",
            "description": "",
            "description_tooltip": null,
            "layout": "IPY_MODEL_00739b0ac51841f8b334327fc1fea6f8",
            "placeholder": "​",
            "style": "IPY_MODEL_15bcb7b701184811878e21b810ad53eb",
            "value": " 456k/456k [00:00&lt;00:00, 2.69MB/s]"
          }
        },
        "17d6cb23ed7647ad9a3f5efbdac73f72": {
          "model_module": "@jupyter-widgets/base",
          "model_module_version": "1.2.0",
          "model_name": "LayoutModel",
          "state": {
            "_model_module": "@jupyter-widgets/base",
            "_model_module_version": "1.2.0",
            "_model_name": "LayoutModel",
            "_view_count": null,
            "_view_module": "@jupyter-widgets/base",
            "_view_module_version": "1.2.0",
            "_view_name": "LayoutView",
            "align_content": null,
            "align_items": null,
            "align_self": null,
            "border": null,
            "bottom": null,
            "display": null,
            "flex": null,
            "flex_flow": null,
            "grid_area": null,
            "grid_auto_columns": null,
            "grid_auto_flow": null,
            "grid_auto_rows": null,
            "grid_column": null,
            "grid_gap": null,
            "grid_row": null,
            "grid_template_areas": null,
            "grid_template_columns": null,
            "grid_template_rows": null,
            "height": null,
            "justify_content": null,
            "justify_items": null,
            "left": null,
            "margin": null,
            "max_height": null,
            "max_width": null,
            "min_height": null,
            "min_width": null,
            "object_fit": null,
            "object_position": null,
            "order": null,
            "overflow": null,
            "overflow_x": null,
            "overflow_y": null,
            "padding": null,
            "right": null,
            "top": null,
            "visibility": null,
            "width": null
          }
        },
        "17eb5fb4ba6b45cab22b9729ef938335": {
          "model_module": "@jupyter-widgets/controls",
          "model_module_version": "1.5.0",
          "model_name": "DescriptionStyleModel",
          "state": {
            "_model_module": "@jupyter-widgets/controls",
            "_model_module_version": "1.5.0",
            "_model_name": "DescriptionStyleModel",
            "_view_count": null,
            "_view_module": "@jupyter-widgets/base",
            "_view_module_version": "1.2.0",
            "_view_name": "StyleView",
            "description_width": ""
          }
        },
        "1d1d830533a44449915a3f2e58f069ee": {
          "model_module": "@jupyter-widgets/base",
          "model_module_version": "1.2.0",
          "model_name": "LayoutModel",
          "state": {
            "_model_module": "@jupyter-widgets/base",
            "_model_module_version": "1.2.0",
            "_model_name": "LayoutModel",
            "_view_count": null,
            "_view_module": "@jupyter-widgets/base",
            "_view_module_version": "1.2.0",
            "_view_name": "LayoutView",
            "align_content": null,
            "align_items": null,
            "align_self": null,
            "border": null,
            "bottom": null,
            "display": null,
            "flex": null,
            "flex_flow": null,
            "grid_area": null,
            "grid_auto_columns": null,
            "grid_auto_flow": null,
            "grid_auto_rows": null,
            "grid_column": null,
            "grid_gap": null,
            "grid_row": null,
            "grid_template_areas": null,
            "grid_template_columns": null,
            "grid_template_rows": null,
            "height": null,
            "justify_content": null,
            "justify_items": null,
            "left": null,
            "margin": null,
            "max_height": null,
            "max_width": null,
            "min_height": null,
            "min_width": null,
            "object_fit": null,
            "object_position": null,
            "order": null,
            "overflow": null,
            "overflow_x": null,
            "overflow_y": null,
            "padding": null,
            "right": null,
            "top": null,
            "visibility": null,
            "width": null
          }
        },
        "1ee7f9d0edff4bb8b0f51a5fbe206933": {
          "model_module": "@jupyter-widgets/base",
          "model_module_version": "1.2.0",
          "model_name": "LayoutModel",
          "state": {
            "_model_module": "@jupyter-widgets/base",
            "_model_module_version": "1.2.0",
            "_model_name": "LayoutModel",
            "_view_count": null,
            "_view_module": "@jupyter-widgets/base",
            "_view_module_version": "1.2.0",
            "_view_name": "LayoutView",
            "align_content": null,
            "align_items": null,
            "align_self": null,
            "border": null,
            "bottom": null,
            "display": null,
            "flex": null,
            "flex_flow": null,
            "grid_area": null,
            "grid_auto_columns": null,
            "grid_auto_flow": null,
            "grid_auto_rows": null,
            "grid_column": null,
            "grid_gap": null,
            "grid_row": null,
            "grid_template_areas": null,
            "grid_template_columns": null,
            "grid_template_rows": null,
            "height": null,
            "justify_content": null,
            "justify_items": null,
            "left": null,
            "margin": null,
            "max_height": null,
            "max_width": null,
            "min_height": null,
            "min_width": null,
            "object_fit": null,
            "object_position": null,
            "order": null,
            "overflow": null,
            "overflow_x": null,
            "overflow_y": null,
            "padding": null,
            "right": null,
            "top": null,
            "visibility": null,
            "width": null
          }
        },
        "2d1d16a78f7446ae8968f54051716994": {
          "model_module": "@jupyter-widgets/base",
          "model_module_version": "1.2.0",
          "model_name": "LayoutModel",
          "state": {
            "_model_module": "@jupyter-widgets/base",
            "_model_module_version": "1.2.0",
            "_model_name": "LayoutModel",
            "_view_count": null,
            "_view_module": "@jupyter-widgets/base",
            "_view_module_version": "1.2.0",
            "_view_name": "LayoutView",
            "align_content": null,
            "align_items": null,
            "align_self": null,
            "border": null,
            "bottom": null,
            "display": null,
            "flex": null,
            "flex_flow": null,
            "grid_area": null,
            "grid_auto_columns": null,
            "grid_auto_flow": null,
            "grid_auto_rows": null,
            "grid_column": null,
            "grid_gap": null,
            "grid_row": null,
            "grid_template_areas": null,
            "grid_template_columns": null,
            "grid_template_rows": null,
            "height": null,
            "justify_content": null,
            "justify_items": null,
            "left": null,
            "margin": null,
            "max_height": null,
            "max_width": null,
            "min_height": null,
            "min_width": null,
            "object_fit": null,
            "object_position": null,
            "order": null,
            "overflow": null,
            "overflow_x": null,
            "overflow_y": null,
            "padding": null,
            "right": null,
            "top": null,
            "visibility": null,
            "width": null
          }
        },
        "2f011469f8ba4b02ac6af015a52985d7": {
          "model_module": "@jupyter-widgets/controls",
          "model_module_version": "1.5.0",
          "model_name": "ProgressStyleModel",
          "state": {
            "_model_module": "@jupyter-widgets/controls",
            "_model_module_version": "1.5.0",
            "_model_name": "ProgressStyleModel",
            "_view_count": null,
            "_view_module": "@jupyter-widgets/base",
            "_view_module_version": "1.2.0",
            "_view_name": "StyleView",
            "bar_color": null,
            "description_width": ""
          }
        },
        "2fc0283a9ba54e0c90f1f872e823bab5": {
          "model_module": "@jupyter-widgets/base",
          "model_module_version": "1.2.0",
          "model_name": "LayoutModel",
          "state": {
            "_model_module": "@jupyter-widgets/base",
            "_model_module_version": "1.2.0",
            "_model_name": "LayoutModel",
            "_view_count": null,
            "_view_module": "@jupyter-widgets/base",
            "_view_module_version": "1.2.0",
            "_view_name": "LayoutView",
            "align_content": null,
            "align_items": null,
            "align_self": null,
            "border": null,
            "bottom": null,
            "display": null,
            "flex": null,
            "flex_flow": null,
            "grid_area": null,
            "grid_auto_columns": null,
            "grid_auto_flow": null,
            "grid_auto_rows": null,
            "grid_column": null,
            "grid_gap": null,
            "grid_row": null,
            "grid_template_areas": null,
            "grid_template_columns": null,
            "grid_template_rows": null,
            "height": null,
            "justify_content": null,
            "justify_items": null,
            "left": null,
            "margin": null,
            "max_height": null,
            "max_width": null,
            "min_height": null,
            "min_width": null,
            "object_fit": null,
            "object_position": null,
            "order": null,
            "overflow": null,
            "overflow_x": null,
            "overflow_y": null,
            "padding": null,
            "right": null,
            "top": null,
            "visibility": null,
            "width": null
          }
        },
        "32be3e27fa304c118a96973d924cc012": {
          "model_module": "@jupyter-widgets/controls",
          "model_module_version": "1.5.0",
          "model_name": "HTMLModel",
          "state": {
            "_dom_classes": [],
            "_model_module": "@jupyter-widgets/controls",
            "_model_module_version": "1.5.0",
            "_model_name": "HTMLModel",
            "_view_count": null,
            "_view_module": "@jupyter-widgets/controls",
            "_view_module_version": "1.5.0",
            "_view_name": "HTMLView",
            "description": "",
            "description_tooltip": null,
            "layout": "IPY_MODEL_5c6fe51d404e445dbe948362e3992bfe",
            "placeholder": "​",
            "style": "IPY_MODEL_b0c749053ef243cdb0f95811b2d0b821",
            "value": " 665/665 [00:00&lt;00:00, 43.4kB/s]"
          }
        },
        "34c77b819f2d47c6bd3f9eb8144777ca": {
          "model_module": "@jupyter-widgets/base",
          "model_module_version": "1.2.0",
          "model_name": "LayoutModel",
          "state": {
            "_model_module": "@jupyter-widgets/base",
            "_model_module_version": "1.2.0",
            "_model_name": "LayoutModel",
            "_view_count": null,
            "_view_module": "@jupyter-widgets/base",
            "_view_module_version": "1.2.0",
            "_view_name": "LayoutView",
            "align_content": null,
            "align_items": null,
            "align_self": null,
            "border": null,
            "bottom": null,
            "display": null,
            "flex": null,
            "flex_flow": null,
            "grid_area": null,
            "grid_auto_columns": null,
            "grid_auto_flow": null,
            "grid_auto_rows": null,
            "grid_column": null,
            "grid_gap": null,
            "grid_row": null,
            "grid_template_areas": null,
            "grid_template_columns": null,
            "grid_template_rows": null,
            "height": null,
            "justify_content": null,
            "justify_items": null,
            "left": null,
            "margin": null,
            "max_height": null,
            "max_width": null,
            "min_height": null,
            "min_width": null,
            "object_fit": null,
            "object_position": null,
            "order": null,
            "overflow": null,
            "overflow_x": null,
            "overflow_y": null,
            "padding": null,
            "right": null,
            "top": null,
            "visibility": null,
            "width": null
          }
        },
        "359266308929448ab9c0079e654350f4": {
          "model_module": "@jupyter-widgets/base",
          "model_module_version": "1.2.0",
          "model_name": "LayoutModel",
          "state": {
            "_model_module": "@jupyter-widgets/base",
            "_model_module_version": "1.2.0",
            "_model_name": "LayoutModel",
            "_view_count": null,
            "_view_module": "@jupyter-widgets/base",
            "_view_module_version": "1.2.0",
            "_view_name": "LayoutView",
            "align_content": null,
            "align_items": null,
            "align_self": null,
            "border": null,
            "bottom": null,
            "display": null,
            "flex": null,
            "flex_flow": null,
            "grid_area": null,
            "grid_auto_columns": null,
            "grid_auto_flow": null,
            "grid_auto_rows": null,
            "grid_column": null,
            "grid_gap": null,
            "grid_row": null,
            "grid_template_areas": null,
            "grid_template_columns": null,
            "grid_template_rows": null,
            "height": null,
            "justify_content": null,
            "justify_items": null,
            "left": null,
            "margin": null,
            "max_height": null,
            "max_width": null,
            "min_height": null,
            "min_width": null,
            "object_fit": null,
            "object_position": null,
            "order": null,
            "overflow": null,
            "overflow_x": null,
            "overflow_y": null,
            "padding": null,
            "right": null,
            "top": null,
            "visibility": null,
            "width": null
          }
        },
        "36647f5d5cb34fa19810fab2554b8994": {
          "model_module": "@jupyter-widgets/controls",
          "model_module_version": "1.5.0",
          "model_name": "FloatProgressModel",
          "state": {
            "_dom_classes": [],
            "_model_module": "@jupyter-widgets/controls",
            "_model_module_version": "1.5.0",
            "_model_name": "FloatProgressModel",
            "_view_count": null,
            "_view_module": "@jupyter-widgets/controls",
            "_view_module_version": "1.5.0",
            "_view_name": "ProgressView",
            "bar_style": "success",
            "description": "",
            "description_tooltip": null,
            "layout": "IPY_MODEL_f9d5cf3d35d94b15aa33142203ba0ae7",
            "max": 1355256,
            "min": 0,
            "orientation": "horizontal",
            "style": "IPY_MODEL_dbecb0d241e9464ab58689bd70e134bb",
            "value": 1355256
          }
        },
        "3d88d77ef78d4ec4a68a25a6f6934150": {
          "model_module": "@jupyter-widgets/controls",
          "model_module_version": "1.5.0",
          "model_name": "DescriptionStyleModel",
          "state": {
            "_model_module": "@jupyter-widgets/controls",
            "_model_module_version": "1.5.0",
            "_model_name": "DescriptionStyleModel",
            "_view_count": null,
            "_view_module": "@jupyter-widgets/base",
            "_view_module_version": "1.2.0",
            "_view_name": "StyleView",
            "description_width": ""
          }
        },
        "3e3b911b48ae40aa80a6472b250ad451": {
          "model_module": "@jupyter-widgets/controls",
          "model_module_version": "1.5.0",
          "model_name": "ProgressStyleModel",
          "state": {
            "_model_module": "@jupyter-widgets/controls",
            "_model_module_version": "1.5.0",
            "_model_name": "ProgressStyleModel",
            "_view_count": null,
            "_view_module": "@jupyter-widgets/base",
            "_view_module_version": "1.2.0",
            "_view_name": "StyleView",
            "bar_color": null,
            "description_width": ""
          }
        },
        "40be2ca691174a8b81822ad6a0b2de47": {
          "model_module": "@jupyter-widgets/controls",
          "model_module_version": "1.5.0",
          "model_name": "DescriptionStyleModel",
          "state": {
            "_model_module": "@jupyter-widgets/controls",
            "_model_module_version": "1.5.0",
            "_model_name": "DescriptionStyleModel",
            "_view_count": null,
            "_view_module": "@jupyter-widgets/base",
            "_view_module_version": "1.2.0",
            "_view_name": "StyleView",
            "description_width": ""
          }
        },
        "4118d3804eb8474998d8d83f7712f240": {
          "model_module": "@jupyter-widgets/controls",
          "model_module_version": "1.5.0",
          "model_name": "FloatProgressModel",
          "state": {
            "_dom_classes": [],
            "_model_module": "@jupyter-widgets/controls",
            "_model_module_version": "1.5.0",
            "_model_name": "FloatProgressModel",
            "_view_count": null,
            "_view_module": "@jupyter-widgets/controls",
            "_view_module_version": "1.5.0",
            "_view_name": "ProgressView",
            "bar_style": "success",
            "description": "",
            "description_tooltip": null,
            "layout": "IPY_MODEL_2d1d16a78f7446ae8968f54051716994",
            "max": 456318,
            "min": 0,
            "orientation": "horizontal",
            "style": "IPY_MODEL_fc64b525124b4a4491fe5d229776d3ba",
            "value": 456318
          }
        },
        "47f8ea6e53ad418293ec4273e61bb521": {
          "model_module": "@jupyter-widgets/controls",
          "model_module_version": "1.5.0",
          "model_name": "FloatProgressModel",
          "state": {
            "_dom_classes": [],
            "_model_module": "@jupyter-widgets/controls",
            "_model_module_version": "1.5.0",
            "_model_name": "FloatProgressModel",
            "_view_count": null,
            "_view_module": "@jupyter-widgets/controls",
            "_view_module_version": "1.5.0",
            "_view_name": "ProgressView",
            "bar_style": "success",
            "description": "",
            "description_tooltip": null,
            "layout": "IPY_MODEL_727f764f5c8f4f82af1d3f11b3d9108e",
            "max": 665,
            "min": 0,
            "orientation": "horizontal",
            "style": "IPY_MODEL_7e16142d8032440c87ae915cc5a27ae9",
            "value": 665
          }
        },
        "4862113980f3479ebd2341c7426e2874": {
          "model_module": "@jupyter-widgets/controls",
          "model_module_version": "1.5.0",
          "model_name": "FloatProgressModel",
          "state": {
            "_dom_classes": [],
            "_model_module": "@jupyter-widgets/controls",
            "_model_module_version": "1.5.0",
            "_model_name": "FloatProgressModel",
            "_view_count": null,
            "_view_module": "@jupyter-widgets/controls",
            "_view_module_version": "1.5.0",
            "_view_name": "ProgressView",
            "bar_style": "success",
            "description": "",
            "description_tooltip": null,
            "layout": "IPY_MODEL_fb9f3d3f1b444afda4f408ee6bbb247f",
            "max": 548105171,
            "min": 0,
            "orientation": "horizontal",
            "style": "IPY_MODEL_6522b54e706149688d39e8c5207bb8f5",
            "value": 548105171
          }
        },
        "50d1f3c26b82482988bd1af3fcf47719": {
          "model_module": "@jupyter-widgets/controls",
          "model_module_version": "1.5.0",
          "model_name": "DescriptionStyleModel",
          "state": {
            "_model_module": "@jupyter-widgets/controls",
            "_model_module_version": "1.5.0",
            "_model_name": "DescriptionStyleModel",
            "_view_count": null,
            "_view_module": "@jupyter-widgets/base",
            "_view_module_version": "1.2.0",
            "_view_name": "StyleView",
            "description_width": ""
          }
        },
        "5175aba1920a4a659dee7a593548f064": {
          "model_module": "@jupyter-widgets/controls",
          "model_module_version": "1.5.0",
          "model_name": "HTMLModel",
          "state": {
            "_dom_classes": [],
            "_model_module": "@jupyter-widgets/controls",
            "_model_module_version": "1.5.0",
            "_model_name": "HTMLModel",
            "_view_count": null,
            "_view_module": "@jupyter-widgets/controls",
            "_view_module_version": "1.5.0",
            "_view_name": "HTMLView",
            "description": "",
            "description_tooltip": null,
            "layout": "IPY_MODEL_90b523f2d0c54bde903bfef6dff362e8",
            "placeholder": "​",
            "style": "IPY_MODEL_bad97316123740ccad6d856c66990ffa",
            "value": " 1.04M/1.04M [00:00&lt;00:00, 4.58MB/s]"
          }
        },
        "58000c76a04d4e2fbd6a580b96677041": {
          "model_module": "@jupyter-widgets/controls",
          "model_module_version": "1.5.0",
          "model_name": "HBoxModel",
          "state": {
            "_dom_classes": [],
            "_model_module": "@jupyter-widgets/controls",
            "_model_module_version": "1.5.0",
            "_model_name": "HBoxModel",
            "_view_count": null,
            "_view_module": "@jupyter-widgets/controls",
            "_view_module_version": "1.5.0",
            "_view_name": "HBoxView",
            "box_style": "",
            "children": [
              "IPY_MODEL_0caab611ecbf46db9f11bd24f7d9ff2b",
              "IPY_MODEL_36647f5d5cb34fa19810fab2554b8994",
              "IPY_MODEL_8268f5ad34b3414eaadf208482980002"
            ],
            "layout": "IPY_MODEL_ad9e34698c364f0bae518bfffbf94426"
          }
        },
        "5a1d24a06af842f6b68e538ed42e7aba": {
          "model_module": "@jupyter-widgets/base",
          "model_module_version": "1.2.0",
          "model_name": "LayoutModel",
          "state": {
            "_model_module": "@jupyter-widgets/base",
            "_model_module_version": "1.2.0",
            "_model_name": "LayoutModel",
            "_view_count": null,
            "_view_module": "@jupyter-widgets/base",
            "_view_module_version": "1.2.0",
            "_view_name": "LayoutView",
            "align_content": null,
            "align_items": null,
            "align_self": null,
            "border": null,
            "bottom": null,
            "display": null,
            "flex": null,
            "flex_flow": null,
            "grid_area": null,
            "grid_auto_columns": null,
            "grid_auto_flow": null,
            "grid_auto_rows": null,
            "grid_column": null,
            "grid_gap": null,
            "grid_row": null,
            "grid_template_areas": null,
            "grid_template_columns": null,
            "grid_template_rows": null,
            "height": null,
            "justify_content": null,
            "justify_items": null,
            "left": null,
            "margin": null,
            "max_height": null,
            "max_width": null,
            "min_height": null,
            "min_width": null,
            "object_fit": null,
            "object_position": null,
            "order": null,
            "overflow": null,
            "overflow_x": null,
            "overflow_y": null,
            "padding": null,
            "right": null,
            "top": null,
            "visibility": null,
            "width": null
          }
        },
        "5c6fe51d404e445dbe948362e3992bfe": {
          "model_module": "@jupyter-widgets/base",
          "model_module_version": "1.2.0",
          "model_name": "LayoutModel",
          "state": {
            "_model_module": "@jupyter-widgets/base",
            "_model_module_version": "1.2.0",
            "_model_name": "LayoutModel",
            "_view_count": null,
            "_view_module": "@jupyter-widgets/base",
            "_view_module_version": "1.2.0",
            "_view_name": "LayoutView",
            "align_content": null,
            "align_items": null,
            "align_self": null,
            "border": null,
            "bottom": null,
            "display": null,
            "flex": null,
            "flex_flow": null,
            "grid_area": null,
            "grid_auto_columns": null,
            "grid_auto_flow": null,
            "grid_auto_rows": null,
            "grid_column": null,
            "grid_gap": null,
            "grid_row": null,
            "grid_template_areas": null,
            "grid_template_columns": null,
            "grid_template_rows": null,
            "height": null,
            "justify_content": null,
            "justify_items": null,
            "left": null,
            "margin": null,
            "max_height": null,
            "max_width": null,
            "min_height": null,
            "min_width": null,
            "object_fit": null,
            "object_position": null,
            "order": null,
            "overflow": null,
            "overflow_x": null,
            "overflow_y": null,
            "padding": null,
            "right": null,
            "top": null,
            "visibility": null,
            "width": null
          }
        },
        "6515c38ae93648049018e4138d8d6585": {
          "model_module": "@jupyter-widgets/controls",
          "model_module_version": "1.5.0",
          "model_name": "DescriptionStyleModel",
          "state": {
            "_model_module": "@jupyter-widgets/controls",
            "_model_module_version": "1.5.0",
            "_model_name": "DescriptionStyleModel",
            "_view_count": null,
            "_view_module": "@jupyter-widgets/base",
            "_view_module_version": "1.2.0",
            "_view_name": "StyleView",
            "description_width": ""
          }
        },
        "6522b54e706149688d39e8c5207bb8f5": {
          "model_module": "@jupyter-widgets/controls",
          "model_module_version": "1.5.0",
          "model_name": "ProgressStyleModel",
          "state": {
            "_model_module": "@jupyter-widgets/controls",
            "_model_module_version": "1.5.0",
            "_model_name": "ProgressStyleModel",
            "_view_count": null,
            "_view_module": "@jupyter-widgets/base",
            "_view_module_version": "1.2.0",
            "_view_name": "StyleView",
            "bar_color": null,
            "description_width": ""
          }
        },
        "6852c8b6ead84cc7b996610e3f2f2057": {
          "model_module": "@jupyter-widgets/controls",
          "model_module_version": "1.5.0",
          "model_name": "FloatProgressModel",
          "state": {
            "_dom_classes": [],
            "_model_module": "@jupyter-widgets/controls",
            "_model_module_version": "1.5.0",
            "_model_name": "FloatProgressModel",
            "_view_count": null,
            "_view_module": "@jupyter-widgets/controls",
            "_view_module_version": "1.5.0",
            "_view_name": "ProgressView",
            "bar_style": "success",
            "description": "",
            "description_tooltip": null,
            "layout": "IPY_MODEL_00e5aac2a2304bad9173aa4e5127809f",
            "max": 26,
            "min": 0,
            "orientation": "horizontal",
            "style": "IPY_MODEL_a570e86e0a2844d0b310ec2b498808aa",
            "value": 26
          }
        },
        "727f764f5c8f4f82af1d3f11b3d9108e": {
          "model_module": "@jupyter-widgets/base",
          "model_module_version": "1.2.0",
          "model_name": "LayoutModel",
          "state": {
            "_model_module": "@jupyter-widgets/base",
            "_model_module_version": "1.2.0",
            "_model_name": "LayoutModel",
            "_view_count": null,
            "_view_module": "@jupyter-widgets/base",
            "_view_module_version": "1.2.0",
            "_view_name": "LayoutView",
            "align_content": null,
            "align_items": null,
            "align_self": null,
            "border": null,
            "bottom": null,
            "display": null,
            "flex": null,
            "flex_flow": null,
            "grid_area": null,
            "grid_auto_columns": null,
            "grid_auto_flow": null,
            "grid_auto_rows": null,
            "grid_column": null,
            "grid_gap": null,
            "grid_row": null,
            "grid_template_areas": null,
            "grid_template_columns": null,
            "grid_template_rows": null,
            "height": null,
            "justify_content": null,
            "justify_items": null,
            "left": null,
            "margin": null,
            "max_height": null,
            "max_width": null,
            "min_height": null,
            "min_width": null,
            "object_fit": null,
            "object_position": null,
            "order": null,
            "overflow": null,
            "overflow_x": null,
            "overflow_y": null,
            "padding": null,
            "right": null,
            "top": null,
            "visibility": null,
            "width": null
          }
        },
        "7a7c893f83b243d3a7d98a596aa11b04": {
          "model_module": "@jupyter-widgets/base",
          "model_module_version": "1.2.0",
          "model_name": "LayoutModel",
          "state": {
            "_model_module": "@jupyter-widgets/base",
            "_model_module_version": "1.2.0",
            "_model_name": "LayoutModel",
            "_view_count": null,
            "_view_module": "@jupyter-widgets/base",
            "_view_module_version": "1.2.0",
            "_view_name": "LayoutView",
            "align_content": null,
            "align_items": null,
            "align_self": null,
            "border": null,
            "bottom": null,
            "display": null,
            "flex": null,
            "flex_flow": null,
            "grid_area": null,
            "grid_auto_columns": null,
            "grid_auto_flow": null,
            "grid_auto_rows": null,
            "grid_column": null,
            "grid_gap": null,
            "grid_row": null,
            "grid_template_areas": null,
            "grid_template_columns": null,
            "grid_template_rows": null,
            "height": null,
            "justify_content": null,
            "justify_items": null,
            "left": null,
            "margin": null,
            "max_height": null,
            "max_width": null,
            "min_height": null,
            "min_width": null,
            "object_fit": null,
            "object_position": null,
            "order": null,
            "overflow": null,
            "overflow_x": null,
            "overflow_y": null,
            "padding": null,
            "right": null,
            "top": null,
            "visibility": null,
            "width": null
          }
        },
        "7dee7534a4bb44e5ad9fa600555035fc": {
          "model_module": "@jupyter-widgets/controls",
          "model_module_version": "1.5.0",
          "model_name": "HTMLModel",
          "state": {
            "_dom_classes": [],
            "_model_module": "@jupyter-widgets/controls",
            "_model_module_version": "1.5.0",
            "_model_name": "HTMLModel",
            "_view_count": null,
            "_view_module": "@jupyter-widgets/controls",
            "_view_module_version": "1.5.0",
            "_view_name": "HTMLView",
            "description": "",
            "description_tooltip": null,
            "layout": "IPY_MODEL_359266308929448ab9c0079e654350f4",
            "placeholder": "​",
            "style": "IPY_MODEL_50d1f3c26b82482988bd1af3fcf47719",
            "value": " 124/124 [00:00&lt;00:00, 8.91kB/s]"
          }
        },
        "7e16142d8032440c87ae915cc5a27ae9": {
          "model_module": "@jupyter-widgets/controls",
          "model_module_version": "1.5.0",
          "model_name": "ProgressStyleModel",
          "state": {
            "_model_module": "@jupyter-widgets/controls",
            "_model_module_version": "1.5.0",
            "_model_name": "ProgressStyleModel",
            "_view_count": null,
            "_view_module": "@jupyter-widgets/base",
            "_view_module_version": "1.2.0",
            "_view_name": "StyleView",
            "bar_color": null,
            "description_width": ""
          }
        },
        "80121289c64f4837a7e5a29e7a281d94": {
          "model_module": "@jupyter-widgets/controls",
          "model_module_version": "1.5.0",
          "model_name": "HTMLModel",
          "state": {
            "_dom_classes": [],
            "_model_module": "@jupyter-widgets/controls",
            "_model_module_version": "1.5.0",
            "_model_name": "HTMLModel",
            "_view_count": null,
            "_view_module": "@jupyter-widgets/controls",
            "_view_module_version": "1.5.0",
            "_view_name": "HTMLView",
            "description": "",
            "description_tooltip": null,
            "layout": "IPY_MODEL_f06d9fead8664ed4a4755fa2a482f17e",
            "placeholder": "​",
            "style": "IPY_MODEL_fbef761cf0224638ab6d7ae16f0e2b6e",
            "value": " 26.0/26.0 [00:00&lt;00:00, 1.33kB/s]"
          }
        },
        "8268f5ad34b3414eaadf208482980002": {
          "model_module": "@jupyter-widgets/controls",
          "model_module_version": "1.5.0",
          "model_name": "HTMLModel",
          "state": {
            "_dom_classes": [],
            "_model_module": "@jupyter-widgets/controls",
            "_model_module_version": "1.5.0",
            "_model_name": "HTMLModel",
            "_view_count": null,
            "_view_module": "@jupyter-widgets/controls",
            "_view_module_version": "1.5.0",
            "_view_name": "HTMLView",
            "description": "",
            "description_tooltip": null,
            "layout": "IPY_MODEL_e68a2d87ced743d4abc61d081fa1ac86",
            "placeholder": "​",
            "style": "IPY_MODEL_99dc242f427948debab0cc70d5407492",
            "value": " 1.36M/1.36M [00:00&lt;00:00, 4.89MB/s]"
          }
        },
        "8664866a2c4f449b8e25852f1b7fe05f": {
          "model_module": "@jupyter-widgets/base",
          "model_module_version": "1.2.0",
          "model_name": "LayoutModel",
          "state": {
            "_model_module": "@jupyter-widgets/base",
            "_model_module_version": "1.2.0",
            "_model_name": "LayoutModel",
            "_view_count": null,
            "_view_module": "@jupyter-widgets/base",
            "_view_module_version": "1.2.0",
            "_view_name": "LayoutView",
            "align_content": null,
            "align_items": null,
            "align_self": null,
            "border": null,
            "bottom": null,
            "display": null,
            "flex": null,
            "flex_flow": null,
            "grid_area": null,
            "grid_auto_columns": null,
            "grid_auto_flow": null,
            "grid_auto_rows": null,
            "grid_column": null,
            "grid_gap": null,
            "grid_row": null,
            "grid_template_areas": null,
            "grid_template_columns": null,
            "grid_template_rows": null,
            "height": null,
            "justify_content": null,
            "justify_items": null,
            "left": null,
            "margin": null,
            "max_height": null,
            "max_width": null,
            "min_height": null,
            "min_width": null,
            "object_fit": null,
            "object_position": null,
            "order": null,
            "overflow": null,
            "overflow_x": null,
            "overflow_y": null,
            "padding": null,
            "right": null,
            "top": null,
            "visibility": null,
            "width": null
          }
        },
        "90b523f2d0c54bde903bfef6dff362e8": {
          "model_module": "@jupyter-widgets/base",
          "model_module_version": "1.2.0",
          "model_name": "LayoutModel",
          "state": {
            "_model_module": "@jupyter-widgets/base",
            "_model_module_version": "1.2.0",
            "_model_name": "LayoutModel",
            "_view_count": null,
            "_view_module": "@jupyter-widgets/base",
            "_view_module_version": "1.2.0",
            "_view_name": "LayoutView",
            "align_content": null,
            "align_items": null,
            "align_self": null,
            "border": null,
            "bottom": null,
            "display": null,
            "flex": null,
            "flex_flow": null,
            "grid_area": null,
            "grid_auto_columns": null,
            "grid_auto_flow": null,
            "grid_auto_rows": null,
            "grid_column": null,
            "grid_gap": null,
            "grid_row": null,
            "grid_template_areas": null,
            "grid_template_columns": null,
            "grid_template_rows": null,
            "height": null,
            "justify_content": null,
            "justify_items": null,
            "left": null,
            "margin": null,
            "max_height": null,
            "max_width": null,
            "min_height": null,
            "min_width": null,
            "object_fit": null,
            "object_position": null,
            "order": null,
            "overflow": null,
            "overflow_x": null,
            "overflow_y": null,
            "padding": null,
            "right": null,
            "top": null,
            "visibility": null,
            "width": null
          }
        },
        "94328f8882ac4f719a8ce5f3fe0a6ea5": {
          "model_module": "@jupyter-widgets/controls",
          "model_module_version": "1.5.0",
          "model_name": "FloatProgressModel",
          "state": {
            "_dom_classes": [],
            "_model_module": "@jupyter-widgets/controls",
            "_model_module_version": "1.5.0",
            "_model_name": "FloatProgressModel",
            "_view_count": null,
            "_view_module": "@jupyter-widgets/controls",
            "_view_module_version": "1.5.0",
            "_view_name": "ProgressView",
            "bar_style": "success",
            "description": "",
            "description_tooltip": null,
            "layout": "IPY_MODEL_1ee7f9d0edff4bb8b0f51a5fbe206933",
            "max": 124,
            "min": 0,
            "orientation": "horizontal",
            "style": "IPY_MODEL_3e3b911b48ae40aa80a6472b250ad451",
            "value": 124
          }
        },
        "99dc242f427948debab0cc70d5407492": {
          "model_module": "@jupyter-widgets/controls",
          "model_module_version": "1.5.0",
          "model_name": "DescriptionStyleModel",
          "state": {
            "_model_module": "@jupyter-widgets/controls",
            "_model_module_version": "1.5.0",
            "_model_name": "DescriptionStyleModel",
            "_view_count": null,
            "_view_module": "@jupyter-widgets/base",
            "_view_module_version": "1.2.0",
            "_view_name": "StyleView",
            "description_width": ""
          }
        },
        "9bbdda6504b6499b941ae324afef7053": {
          "model_module": "@jupyter-widgets/controls",
          "model_module_version": "1.5.0",
          "model_name": "HBoxModel",
          "state": {
            "_dom_classes": [],
            "_model_module": "@jupyter-widgets/controls",
            "_model_module_version": "1.5.0",
            "_model_name": "HBoxModel",
            "_view_count": null,
            "_view_module": "@jupyter-widgets/controls",
            "_view_module_version": "1.5.0",
            "_view_name": "HBoxView",
            "box_style": "",
            "children": [
              "IPY_MODEL_afcdb09970be4c439f161997579b8bea",
              "IPY_MODEL_47f8ea6e53ad418293ec4273e61bb521",
              "IPY_MODEL_32be3e27fa304c118a96973d924cc012"
            ],
            "layout": "IPY_MODEL_34c77b819f2d47c6bd3f9eb8144777ca"
          }
        },
        "9fef742dfdbc4b3eabd8ff7d38b60144": {
          "model_module": "@jupyter-widgets/controls",
          "model_module_version": "1.5.0",
          "model_name": "DescriptionStyleModel",
          "state": {
            "_model_module": "@jupyter-widgets/controls",
            "_model_module_version": "1.5.0",
            "_model_name": "DescriptionStyleModel",
            "_view_count": null,
            "_view_module": "@jupyter-widgets/base",
            "_view_module_version": "1.2.0",
            "_view_name": "StyleView",
            "description_width": ""
          }
        },
        "a570e86e0a2844d0b310ec2b498808aa": {
          "model_module": "@jupyter-widgets/controls",
          "model_module_version": "1.5.0",
          "model_name": "ProgressStyleModel",
          "state": {
            "_model_module": "@jupyter-widgets/controls",
            "_model_module_version": "1.5.0",
            "_model_name": "ProgressStyleModel",
            "_view_count": null,
            "_view_module": "@jupyter-widgets/base",
            "_view_module_version": "1.2.0",
            "_view_name": "StyleView",
            "bar_color": null,
            "description_width": ""
          }
        },
        "a5c67dedefed44d19a7188b68be350c0": {
          "model_module": "@jupyter-widgets/controls",
          "model_module_version": "1.5.0",
          "model_name": "HTMLModel",
          "state": {
            "_dom_classes": [],
            "_model_module": "@jupyter-widgets/controls",
            "_model_module_version": "1.5.0",
            "_model_name": "HTMLModel",
            "_view_count": null,
            "_view_module": "@jupyter-widgets/controls",
            "_view_module_version": "1.5.0",
            "_view_name": "HTMLView",
            "description": "",
            "description_tooltip": null,
            "layout": "IPY_MODEL_f1238f52c2b8400f83ec09f567547523",
            "placeholder": "​",
            "style": "IPY_MODEL_40be2ca691174a8b81822ad6a0b2de47",
            "value": " 548M/548M [00:02&lt;00:00, 288MB/s]"
          }
        },
        "a5fa8d4a939f43bcae524c9a92a2f100": {
          "model_module": "@jupyter-widgets/base",
          "model_module_version": "1.2.0",
          "model_name": "LayoutModel",
          "state": {
            "_model_module": "@jupyter-widgets/base",
            "_model_module_version": "1.2.0",
            "_model_name": "LayoutModel",
            "_view_count": null,
            "_view_module": "@jupyter-widgets/base",
            "_view_module_version": "1.2.0",
            "_view_name": "LayoutView",
            "align_content": null,
            "align_items": null,
            "align_self": null,
            "border": null,
            "bottom": null,
            "display": null,
            "flex": null,
            "flex_flow": null,
            "grid_area": null,
            "grid_auto_columns": null,
            "grid_auto_flow": null,
            "grid_auto_rows": null,
            "grid_column": null,
            "grid_gap": null,
            "grid_row": null,
            "grid_template_areas": null,
            "grid_template_columns": null,
            "grid_template_rows": null,
            "height": null,
            "justify_content": null,
            "justify_items": null,
            "left": null,
            "margin": null,
            "max_height": null,
            "max_width": null,
            "min_height": null,
            "min_width": null,
            "object_fit": null,
            "object_position": null,
            "order": null,
            "overflow": null,
            "overflow_x": null,
            "overflow_y": null,
            "padding": null,
            "right": null,
            "top": null,
            "visibility": null,
            "width": null
          }
        },
        "a6edfdf553d34cdea52bdb86ba8f5504": {
          "model_module": "@jupyter-widgets/base",
          "model_module_version": "1.2.0",
          "model_name": "LayoutModel",
          "state": {
            "_model_module": "@jupyter-widgets/base",
            "_model_module_version": "1.2.0",
            "_model_name": "LayoutModel",
            "_view_count": null,
            "_view_module": "@jupyter-widgets/base",
            "_view_module_version": "1.2.0",
            "_view_name": "LayoutView",
            "align_content": null,
            "align_items": null,
            "align_self": null,
            "border": null,
            "bottom": null,
            "display": null,
            "flex": null,
            "flex_flow": null,
            "grid_area": null,
            "grid_auto_columns": null,
            "grid_auto_flow": null,
            "grid_auto_rows": null,
            "grid_column": null,
            "grid_gap": null,
            "grid_row": null,
            "grid_template_areas": null,
            "grid_template_columns": null,
            "grid_template_rows": null,
            "height": null,
            "justify_content": null,
            "justify_items": null,
            "left": null,
            "margin": null,
            "max_height": null,
            "max_width": null,
            "min_height": null,
            "min_width": null,
            "object_fit": null,
            "object_position": null,
            "order": null,
            "overflow": null,
            "overflow_x": null,
            "overflow_y": null,
            "padding": null,
            "right": null,
            "top": null,
            "visibility": null,
            "width": null
          }
        },
        "ad9e34698c364f0bae518bfffbf94426": {
          "model_module": "@jupyter-widgets/base",
          "model_module_version": "1.2.0",
          "model_name": "LayoutModel",
          "state": {
            "_model_module": "@jupyter-widgets/base",
            "_model_module_version": "1.2.0",
            "_model_name": "LayoutModel",
            "_view_count": null,
            "_view_module": "@jupyter-widgets/base",
            "_view_module_version": "1.2.0",
            "_view_name": "LayoutView",
            "align_content": null,
            "align_items": null,
            "align_self": null,
            "border": null,
            "bottom": null,
            "display": null,
            "flex": null,
            "flex_flow": null,
            "grid_area": null,
            "grid_auto_columns": null,
            "grid_auto_flow": null,
            "grid_auto_rows": null,
            "grid_column": null,
            "grid_gap": null,
            "grid_row": null,
            "grid_template_areas": null,
            "grid_template_columns": null,
            "grid_template_rows": null,
            "height": null,
            "justify_content": null,
            "justify_items": null,
            "left": null,
            "margin": null,
            "max_height": null,
            "max_width": null,
            "min_height": null,
            "min_width": null,
            "object_fit": null,
            "object_position": null,
            "order": null,
            "overflow": null,
            "overflow_x": null,
            "overflow_y": null,
            "padding": null,
            "right": null,
            "top": null,
            "visibility": null,
            "width": null
          }
        },
        "afcdb09970be4c439f161997579b8bea": {
          "model_module": "@jupyter-widgets/controls",
          "model_module_version": "1.5.0",
          "model_name": "HTMLModel",
          "state": {
            "_dom_classes": [],
            "_model_module": "@jupyter-widgets/controls",
            "_model_module_version": "1.5.0",
            "_model_name": "HTMLModel",
            "_view_count": null,
            "_view_module": "@jupyter-widgets/controls",
            "_view_module_version": "1.5.0",
            "_view_name": "HTMLView",
            "description": "",
            "description_tooltip": null,
            "layout": "IPY_MODEL_a5fa8d4a939f43bcae524c9a92a2f100",
            "placeholder": "​",
            "style": "IPY_MODEL_3d88d77ef78d4ec4a68a25a6f6934150",
            "value": "config.json: 100%"
          }
        },
        "b0c749053ef243cdb0f95811b2d0b821": {
          "model_module": "@jupyter-widgets/controls",
          "model_module_version": "1.5.0",
          "model_name": "DescriptionStyleModel",
          "state": {
            "_model_module": "@jupyter-widgets/controls",
            "_model_module_version": "1.5.0",
            "_model_name": "DescriptionStyleModel",
            "_view_count": null,
            "_view_module": "@jupyter-widgets/base",
            "_view_module_version": "1.2.0",
            "_view_name": "StyleView",
            "description_width": ""
          }
        },
        "b19445a54c2249858f842f3dccc39560": {
          "model_module": "@jupyter-widgets/controls",
          "model_module_version": "1.5.0",
          "model_name": "HBoxModel",
          "state": {
            "_dom_classes": [],
            "_model_module": "@jupyter-widgets/controls",
            "_model_module_version": "1.5.0",
            "_model_name": "HBoxModel",
            "_view_count": null,
            "_view_module": "@jupyter-widgets/controls",
            "_view_module_version": "1.5.0",
            "_view_name": "HBoxView",
            "box_style": "",
            "children": [
              "IPY_MODEL_d70cf75a58e748f197caeeb842c6ee8e",
              "IPY_MODEL_6852c8b6ead84cc7b996610e3f2f2057",
              "IPY_MODEL_80121289c64f4837a7e5a29e7a281d94"
            ],
            "layout": "IPY_MODEL_a6edfdf553d34cdea52bdb86ba8f5504"
          }
        },
        "b4504da4b86049ccb04600f664cc74d2": {
          "model_module": "@jupyter-widgets/controls",
          "model_module_version": "1.5.0",
          "model_name": "HBoxModel",
          "state": {
            "_dom_classes": [],
            "_model_module": "@jupyter-widgets/controls",
            "_model_module_version": "1.5.0",
            "_model_name": "HBoxModel",
            "_view_count": null,
            "_view_module": "@jupyter-widgets/controls",
            "_view_module_version": "1.5.0",
            "_view_name": "HBoxView",
            "box_style": "",
            "children": [
              "IPY_MODEL_cff8a2d10a364fafbf640b8b3168089d",
              "IPY_MODEL_4862113980f3479ebd2341c7426e2874",
              "IPY_MODEL_a5c67dedefed44d19a7188b68be350c0"
            ],
            "layout": "IPY_MODEL_8664866a2c4f449b8e25852f1b7fe05f"
          }
        },
        "b4a98534324b40f7b90200130fcd5ce3": {
          "model_module": "@jupyter-widgets/base",
          "model_module_version": "1.2.0",
          "model_name": "LayoutModel",
          "state": {
            "_model_module": "@jupyter-widgets/base",
            "_model_module_version": "1.2.0",
            "_model_name": "LayoutModel",
            "_view_count": null,
            "_view_module": "@jupyter-widgets/base",
            "_view_module_version": "1.2.0",
            "_view_name": "LayoutView",
            "align_content": null,
            "align_items": null,
            "align_self": null,
            "border": null,
            "bottom": null,
            "display": null,
            "flex": null,
            "flex_flow": null,
            "grid_area": null,
            "grid_auto_columns": null,
            "grid_auto_flow": null,
            "grid_auto_rows": null,
            "grid_column": null,
            "grid_gap": null,
            "grid_row": null,
            "grid_template_areas": null,
            "grid_template_columns": null,
            "grid_template_rows": null,
            "height": null,
            "justify_content": null,
            "justify_items": null,
            "left": null,
            "margin": null,
            "max_height": null,
            "max_width": null,
            "min_height": null,
            "min_width": null,
            "object_fit": null,
            "object_position": null,
            "order": null,
            "overflow": null,
            "overflow_x": null,
            "overflow_y": null,
            "padding": null,
            "right": null,
            "top": null,
            "visibility": null,
            "width": null
          }
        },
        "b54a2b7e038a44f49f140f0ad84da85f": {
          "model_module": "@jupyter-widgets/controls",
          "model_module_version": "1.5.0",
          "model_name": "HTMLModel",
          "state": {
            "_dom_classes": [],
            "_model_module": "@jupyter-widgets/controls",
            "_model_module_version": "1.5.0",
            "_model_name": "HTMLModel",
            "_view_count": null,
            "_view_module": "@jupyter-widgets/controls",
            "_view_module_version": "1.5.0",
            "_view_name": "HTMLView",
            "description": "",
            "description_tooltip": null,
            "layout": "IPY_MODEL_05d6b7dab68a47279ce4a4af3e48f6e8",
            "placeholder": "​",
            "style": "IPY_MODEL_6515c38ae93648049018e4138d8d6585",
            "value": "vocab.json: 100%"
          }
        },
        "bad97316123740ccad6d856c66990ffa": {
          "model_module": "@jupyter-widgets/controls",
          "model_module_version": "1.5.0",
          "model_name": "DescriptionStyleModel",
          "state": {
            "_model_module": "@jupyter-widgets/controls",
            "_model_module_version": "1.5.0",
            "_model_name": "DescriptionStyleModel",
            "_view_count": null,
            "_view_module": "@jupyter-widgets/base",
            "_view_module_version": "1.2.0",
            "_view_name": "StyleView",
            "description_width": ""
          }
        },
        "bbd121cff3a74fa5b218676528cd4fc6": {
          "model_module": "@jupyter-widgets/controls",
          "model_module_version": "1.5.0",
          "model_name": "DescriptionStyleModel",
          "state": {
            "_model_module": "@jupyter-widgets/controls",
            "_model_module_version": "1.5.0",
            "_model_name": "DescriptionStyleModel",
            "_view_count": null,
            "_view_module": "@jupyter-widgets/base",
            "_view_module_version": "1.2.0",
            "_view_name": "StyleView",
            "description_width": ""
          }
        },
        "c3a27b59549146ca89de4903e3739fdb": {
          "model_module": "@jupyter-widgets/controls",
          "model_module_version": "1.5.0",
          "model_name": "HBoxModel",
          "state": {
            "_dom_classes": [],
            "_model_module": "@jupyter-widgets/controls",
            "_model_module_version": "1.5.0",
            "_model_name": "HBoxModel",
            "_view_count": null,
            "_view_module": "@jupyter-widgets/controls",
            "_view_module_version": "1.5.0",
            "_view_name": "HBoxView",
            "box_style": "",
            "children": [
              "IPY_MODEL_b54a2b7e038a44f49f140f0ad84da85f",
              "IPY_MODEL_13ffd8f6d9174e429f1b75dfaacd0197",
              "IPY_MODEL_5175aba1920a4a659dee7a593548f064"
            ],
            "layout": "IPY_MODEL_f16f9212bb7244b6b3b8b76000c2148b"
          }
        },
        "c9875223c121449c924a2aaf43c5c7bf": {
          "model_module": "@jupyter-widgets/controls",
          "model_module_version": "1.5.0",
          "model_name": "HBoxModel",
          "state": {
            "_dom_classes": [],
            "_model_module": "@jupyter-widgets/controls",
            "_model_module_version": "1.5.0",
            "_model_name": "HBoxModel",
            "_view_count": null,
            "_view_module": "@jupyter-widgets/controls",
            "_view_module_version": "1.5.0",
            "_view_name": "HBoxView",
            "box_style": "",
            "children": [
              "IPY_MODEL_152c725949e14dfbb30b17e414663e47",
              "IPY_MODEL_94328f8882ac4f719a8ce5f3fe0a6ea5",
              "IPY_MODEL_7dee7534a4bb44e5ad9fa600555035fc"
            ],
            "layout": "IPY_MODEL_ca5baeb9f9d54d6b8c52cd6ba4fce11f"
          }
        },
        "ca5baeb9f9d54d6b8c52cd6ba4fce11f": {
          "model_module": "@jupyter-widgets/base",
          "model_module_version": "1.2.0",
          "model_name": "LayoutModel",
          "state": {
            "_model_module": "@jupyter-widgets/base",
            "_model_module_version": "1.2.0",
            "_model_name": "LayoutModel",
            "_view_count": null,
            "_view_module": "@jupyter-widgets/base",
            "_view_module_version": "1.2.0",
            "_view_name": "LayoutView",
            "align_content": null,
            "align_items": null,
            "align_self": null,
            "border": null,
            "bottom": null,
            "display": null,
            "flex": null,
            "flex_flow": null,
            "grid_area": null,
            "grid_auto_columns": null,
            "grid_auto_flow": null,
            "grid_auto_rows": null,
            "grid_column": null,
            "grid_gap": null,
            "grid_row": null,
            "grid_template_areas": null,
            "grid_template_columns": null,
            "grid_template_rows": null,
            "height": null,
            "justify_content": null,
            "justify_items": null,
            "left": null,
            "margin": null,
            "max_height": null,
            "max_width": null,
            "min_height": null,
            "min_width": null,
            "object_fit": null,
            "object_position": null,
            "order": null,
            "overflow": null,
            "overflow_x": null,
            "overflow_y": null,
            "padding": null,
            "right": null,
            "top": null,
            "visibility": null,
            "width": null
          }
        },
        "cff8a2d10a364fafbf640b8b3168089d": {
          "model_module": "@jupyter-widgets/controls",
          "model_module_version": "1.5.0",
          "model_name": "HTMLModel",
          "state": {
            "_dom_classes": [],
            "_model_module": "@jupyter-widgets/controls",
            "_model_module_version": "1.5.0",
            "_model_name": "HTMLModel",
            "_view_count": null,
            "_view_module": "@jupyter-widgets/controls",
            "_view_module_version": "1.5.0",
            "_view_name": "HTMLView",
            "description": "",
            "description_tooltip": null,
            "layout": "IPY_MODEL_1d1d830533a44449915a3f2e58f069ee",
            "placeholder": "​",
            "style": "IPY_MODEL_ed2211ca108d40cfb1fe0e24123f13d9",
            "value": "model.safetensors: 100%"
          }
        },
        "d70cf75a58e748f197caeeb842c6ee8e": {
          "model_module": "@jupyter-widgets/controls",
          "model_module_version": "1.5.0",
          "model_name": "HTMLModel",
          "state": {
            "_dom_classes": [],
            "_model_module": "@jupyter-widgets/controls",
            "_model_module_version": "1.5.0",
            "_model_name": "HTMLModel",
            "_view_count": null,
            "_view_module": "@jupyter-widgets/controls",
            "_view_module_version": "1.5.0",
            "_view_name": "HTMLView",
            "description": "",
            "description_tooltip": null,
            "layout": "IPY_MODEL_ebb5317c08df4d3f8632ed43687c6cdf",
            "placeholder": "​",
            "style": "IPY_MODEL_9fef742dfdbc4b3eabd8ff7d38b60144",
            "value": "tokenizer_config.json: 100%"
          }
        },
        "dbecb0d241e9464ab58689bd70e134bb": {
          "model_module": "@jupyter-widgets/controls",
          "model_module_version": "1.5.0",
          "model_name": "ProgressStyleModel",
          "state": {
            "_model_module": "@jupyter-widgets/controls",
            "_model_module_version": "1.5.0",
            "_model_name": "ProgressStyleModel",
            "_view_count": null,
            "_view_module": "@jupyter-widgets/base",
            "_view_module_version": "1.2.0",
            "_view_name": "StyleView",
            "bar_color": null,
            "description_width": ""
          }
        },
        "de557ef58e064fcba45697c48929f026": {
          "model_module": "@jupyter-widgets/controls",
          "model_module_version": "1.5.0",
          "model_name": "HTMLModel",
          "state": {
            "_dom_classes": [],
            "_model_module": "@jupyter-widgets/controls",
            "_model_module_version": "1.5.0",
            "_model_name": "HTMLModel",
            "_view_count": null,
            "_view_module": "@jupyter-widgets/controls",
            "_view_module_version": "1.5.0",
            "_view_name": "HTMLView",
            "description": "",
            "description_tooltip": null,
            "layout": "IPY_MODEL_7a7c893f83b243d3a7d98a596aa11b04",
            "placeholder": "​",
            "style": "IPY_MODEL_17eb5fb4ba6b45cab22b9729ef938335",
            "value": "merges.txt: 100%"
          }
        },
        "e52cdec797bf47e2b76c0840b4d4b604": {
          "model_module": "@jupyter-widgets/controls",
          "model_module_version": "1.5.0",
          "model_name": "HBoxModel",
          "state": {
            "_dom_classes": [],
            "_model_module": "@jupyter-widgets/controls",
            "_model_module_version": "1.5.0",
            "_model_name": "HBoxModel",
            "_view_count": null,
            "_view_module": "@jupyter-widgets/controls",
            "_view_module_version": "1.5.0",
            "_view_name": "HBoxView",
            "box_style": "",
            "children": [
              "IPY_MODEL_de557ef58e064fcba45697c48929f026",
              "IPY_MODEL_4118d3804eb8474998d8d83f7712f240",
              "IPY_MODEL_16137e0c5f2d4be4b99aec150c13e364"
            ],
            "layout": "IPY_MODEL_2fc0283a9ba54e0c90f1f872e823bab5"
          }
        },
        "e68a2d87ced743d4abc61d081fa1ac86": {
          "model_module": "@jupyter-widgets/base",
          "model_module_version": "1.2.0",
          "model_name": "LayoutModel",
          "state": {
            "_model_module": "@jupyter-widgets/base",
            "_model_module_version": "1.2.0",
            "_model_name": "LayoutModel",
            "_view_count": null,
            "_view_module": "@jupyter-widgets/base",
            "_view_module_version": "1.2.0",
            "_view_name": "LayoutView",
            "align_content": null,
            "align_items": null,
            "align_self": null,
            "border": null,
            "bottom": null,
            "display": null,
            "flex": null,
            "flex_flow": null,
            "grid_area": null,
            "grid_auto_columns": null,
            "grid_auto_flow": null,
            "grid_auto_rows": null,
            "grid_column": null,
            "grid_gap": null,
            "grid_row": null,
            "grid_template_areas": null,
            "grid_template_columns": null,
            "grid_template_rows": null,
            "height": null,
            "justify_content": null,
            "justify_items": null,
            "left": null,
            "margin": null,
            "max_height": null,
            "max_width": null,
            "min_height": null,
            "min_width": null,
            "object_fit": null,
            "object_position": null,
            "order": null,
            "overflow": null,
            "overflow_x": null,
            "overflow_y": null,
            "padding": null,
            "right": null,
            "top": null,
            "visibility": null,
            "width": null
          }
        },
        "ebb5317c08df4d3f8632ed43687c6cdf": {
          "model_module": "@jupyter-widgets/base",
          "model_module_version": "1.2.0",
          "model_name": "LayoutModel",
          "state": {
            "_model_module": "@jupyter-widgets/base",
            "_model_module_version": "1.2.0",
            "_model_name": "LayoutModel",
            "_view_count": null,
            "_view_module": "@jupyter-widgets/base",
            "_view_module_version": "1.2.0",
            "_view_name": "LayoutView",
            "align_content": null,
            "align_items": null,
            "align_self": null,
            "border": null,
            "bottom": null,
            "display": null,
            "flex": null,
            "flex_flow": null,
            "grid_area": null,
            "grid_auto_columns": null,
            "grid_auto_flow": null,
            "grid_auto_rows": null,
            "grid_column": null,
            "grid_gap": null,
            "grid_row": null,
            "grid_template_areas": null,
            "grid_template_columns": null,
            "grid_template_rows": null,
            "height": null,
            "justify_content": null,
            "justify_items": null,
            "left": null,
            "margin": null,
            "max_height": null,
            "max_width": null,
            "min_height": null,
            "min_width": null,
            "object_fit": null,
            "object_position": null,
            "order": null,
            "overflow": null,
            "overflow_x": null,
            "overflow_y": null,
            "padding": null,
            "right": null,
            "top": null,
            "visibility": null,
            "width": null
          }
        },
        "ed2211ca108d40cfb1fe0e24123f13d9": {
          "model_module": "@jupyter-widgets/controls",
          "model_module_version": "1.5.0",
          "model_name": "DescriptionStyleModel",
          "state": {
            "_model_module": "@jupyter-widgets/controls",
            "_model_module_version": "1.5.0",
            "_model_name": "DescriptionStyleModel",
            "_view_count": null,
            "_view_module": "@jupyter-widgets/base",
            "_view_module_version": "1.2.0",
            "_view_name": "StyleView",
            "description_width": ""
          }
        },
        "f06d9fead8664ed4a4755fa2a482f17e": {
          "model_module": "@jupyter-widgets/base",
          "model_module_version": "1.2.0",
          "model_name": "LayoutModel",
          "state": {
            "_model_module": "@jupyter-widgets/base",
            "_model_module_version": "1.2.0",
            "_model_name": "LayoutModel",
            "_view_count": null,
            "_view_module": "@jupyter-widgets/base",
            "_view_module_version": "1.2.0",
            "_view_name": "LayoutView",
            "align_content": null,
            "align_items": null,
            "align_self": null,
            "border": null,
            "bottom": null,
            "display": null,
            "flex": null,
            "flex_flow": null,
            "grid_area": null,
            "grid_auto_columns": null,
            "grid_auto_flow": null,
            "grid_auto_rows": null,
            "grid_column": null,
            "grid_gap": null,
            "grid_row": null,
            "grid_template_areas": null,
            "grid_template_columns": null,
            "grid_template_rows": null,
            "height": null,
            "justify_content": null,
            "justify_items": null,
            "left": null,
            "margin": null,
            "max_height": null,
            "max_width": null,
            "min_height": null,
            "min_width": null,
            "object_fit": null,
            "object_position": null,
            "order": null,
            "overflow": null,
            "overflow_x": null,
            "overflow_y": null,
            "padding": null,
            "right": null,
            "top": null,
            "visibility": null,
            "width": null
          }
        },
        "f1238f52c2b8400f83ec09f567547523": {
          "model_module": "@jupyter-widgets/base",
          "model_module_version": "1.2.0",
          "model_name": "LayoutModel",
          "state": {
            "_model_module": "@jupyter-widgets/base",
            "_model_module_version": "1.2.0",
            "_model_name": "LayoutModel",
            "_view_count": null,
            "_view_module": "@jupyter-widgets/base",
            "_view_module_version": "1.2.0",
            "_view_name": "LayoutView",
            "align_content": null,
            "align_items": null,
            "align_self": null,
            "border": null,
            "bottom": null,
            "display": null,
            "flex": null,
            "flex_flow": null,
            "grid_area": null,
            "grid_auto_columns": null,
            "grid_auto_flow": null,
            "grid_auto_rows": null,
            "grid_column": null,
            "grid_gap": null,
            "grid_row": null,
            "grid_template_areas": null,
            "grid_template_columns": null,
            "grid_template_rows": null,
            "height": null,
            "justify_content": null,
            "justify_items": null,
            "left": null,
            "margin": null,
            "max_height": null,
            "max_width": null,
            "min_height": null,
            "min_width": null,
            "object_fit": null,
            "object_position": null,
            "order": null,
            "overflow": null,
            "overflow_x": null,
            "overflow_y": null,
            "padding": null,
            "right": null,
            "top": null,
            "visibility": null,
            "width": null
          }
        },
        "f16f9212bb7244b6b3b8b76000c2148b": {
          "model_module": "@jupyter-widgets/base",
          "model_module_version": "1.2.0",
          "model_name": "LayoutModel",
          "state": {
            "_model_module": "@jupyter-widgets/base",
            "_model_module_version": "1.2.0",
            "_model_name": "LayoutModel",
            "_view_count": null,
            "_view_module": "@jupyter-widgets/base",
            "_view_module_version": "1.2.0",
            "_view_name": "LayoutView",
            "align_content": null,
            "align_items": null,
            "align_self": null,
            "border": null,
            "bottom": null,
            "display": null,
            "flex": null,
            "flex_flow": null,
            "grid_area": null,
            "grid_auto_columns": null,
            "grid_auto_flow": null,
            "grid_auto_rows": null,
            "grid_column": null,
            "grid_gap": null,
            "grid_row": null,
            "grid_template_areas": null,
            "grid_template_columns": null,
            "grid_template_rows": null,
            "height": null,
            "justify_content": null,
            "justify_items": null,
            "left": null,
            "margin": null,
            "max_height": null,
            "max_width": null,
            "min_height": null,
            "min_width": null,
            "object_fit": null,
            "object_position": null,
            "order": null,
            "overflow": null,
            "overflow_x": null,
            "overflow_y": null,
            "padding": null,
            "right": null,
            "top": null,
            "visibility": null,
            "width": null
          }
        },
        "f5369b241d13462ea5a1a914806809d4": {
          "model_module": "@jupyter-widgets/controls",
          "model_module_version": "1.5.0",
          "model_name": "DescriptionStyleModel",
          "state": {
            "_model_module": "@jupyter-widgets/controls",
            "_model_module_version": "1.5.0",
            "_model_name": "DescriptionStyleModel",
            "_view_count": null,
            "_view_module": "@jupyter-widgets/base",
            "_view_module_version": "1.2.0",
            "_view_name": "StyleView",
            "description_width": ""
          }
        },
        "f9d5cf3d35d94b15aa33142203ba0ae7": {
          "model_module": "@jupyter-widgets/base",
          "model_module_version": "1.2.0",
          "model_name": "LayoutModel",
          "state": {
            "_model_module": "@jupyter-widgets/base",
            "_model_module_version": "1.2.0",
            "_model_name": "LayoutModel",
            "_view_count": null,
            "_view_module": "@jupyter-widgets/base",
            "_view_module_version": "1.2.0",
            "_view_name": "LayoutView",
            "align_content": null,
            "align_items": null,
            "align_self": null,
            "border": null,
            "bottom": null,
            "display": null,
            "flex": null,
            "flex_flow": null,
            "grid_area": null,
            "grid_auto_columns": null,
            "grid_auto_flow": null,
            "grid_auto_rows": null,
            "grid_column": null,
            "grid_gap": null,
            "grid_row": null,
            "grid_template_areas": null,
            "grid_template_columns": null,
            "grid_template_rows": null,
            "height": null,
            "justify_content": null,
            "justify_items": null,
            "left": null,
            "margin": null,
            "max_height": null,
            "max_width": null,
            "min_height": null,
            "min_width": null,
            "object_fit": null,
            "object_position": null,
            "order": null,
            "overflow": null,
            "overflow_x": null,
            "overflow_y": null,
            "padding": null,
            "right": null,
            "top": null,
            "visibility": null,
            "width": null
          }
        },
        "fb9f3d3f1b444afda4f408ee6bbb247f": {
          "model_module": "@jupyter-widgets/base",
          "model_module_version": "1.2.0",
          "model_name": "LayoutModel",
          "state": {
            "_model_module": "@jupyter-widgets/base",
            "_model_module_version": "1.2.0",
            "_model_name": "LayoutModel",
            "_view_count": null,
            "_view_module": "@jupyter-widgets/base",
            "_view_module_version": "1.2.0",
            "_view_name": "LayoutView",
            "align_content": null,
            "align_items": null,
            "align_self": null,
            "border": null,
            "bottom": null,
            "display": null,
            "flex": null,
            "flex_flow": null,
            "grid_area": null,
            "grid_auto_columns": null,
            "grid_auto_flow": null,
            "grid_auto_rows": null,
            "grid_column": null,
            "grid_gap": null,
            "grid_row": null,
            "grid_template_areas": null,
            "grid_template_columns": null,
            "grid_template_rows": null,
            "height": null,
            "justify_content": null,
            "justify_items": null,
            "left": null,
            "margin": null,
            "max_height": null,
            "max_width": null,
            "min_height": null,
            "min_width": null,
            "object_fit": null,
            "object_position": null,
            "order": null,
            "overflow": null,
            "overflow_x": null,
            "overflow_y": null,
            "padding": null,
            "right": null,
            "top": null,
            "visibility": null,
            "width": null
          }
        },
        "fbef761cf0224638ab6d7ae16f0e2b6e": {
          "model_module": "@jupyter-widgets/controls",
          "model_module_version": "1.5.0",
          "model_name": "DescriptionStyleModel",
          "state": {
            "_model_module": "@jupyter-widgets/controls",
            "_model_module_version": "1.5.0",
            "_model_name": "DescriptionStyleModel",
            "_view_count": null,
            "_view_module": "@jupyter-widgets/base",
            "_view_module_version": "1.2.0",
            "_view_name": "StyleView",
            "description_width": ""
          }
        },
        "fc64b525124b4a4491fe5d229776d3ba": {
          "model_module": "@jupyter-widgets/controls",
          "model_module_version": "1.5.0",
          "model_name": "ProgressStyleModel",
          "state": {
            "_model_module": "@jupyter-widgets/controls",
            "_model_module_version": "1.5.0",
            "_model_name": "ProgressStyleModel",
            "_view_count": null,
            "_view_module": "@jupyter-widgets/base",
            "_view_module_version": "1.2.0",
            "_view_name": "StyleView",
            "bar_color": null,
            "description_width": ""
          }
        }
      }
    }
  },
  "nbformat": 4,
  "nbformat_minor": 0
}
